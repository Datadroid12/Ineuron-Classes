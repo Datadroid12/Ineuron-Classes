{
 "cells": [
  {
   "cell_type": "markdown",
   "id": "fb753c25",
   "metadata": {},
   "source": [
    "## Python Basic 1"
   ]
  },
  {
   "cell_type": "markdown",
   "id": "36606d3c",
   "metadata": {},
   "source": [
    "#### Q1) What are the keywords in python? using the keyword library print all the python keywords"
   ]
  },
  {
   "cell_type": "markdown",
   "id": "454ca3b9",
   "metadata": {},
   "source": [
    "#### Keywords are the reserved words that have special meanings and purposes."
   ]
  },
  {
   "cell_type": "code",
   "execution_count": 3,
   "id": "8e87bec4",
   "metadata": {},
   "outputs": [],
   "source": [
    "import keyword"
   ]
  },
  {
   "cell_type": "code",
   "execution_count": 4,
   "id": "c5508132",
   "metadata": {},
   "outputs": [
    {
     "data": {
      "text/plain": [
       "['False',\n",
       " 'None',\n",
       " 'True',\n",
       " 'and',\n",
       " 'as',\n",
       " 'assert',\n",
       " 'async',\n",
       " 'await',\n",
       " 'break',\n",
       " 'class',\n",
       " 'continue',\n",
       " 'def',\n",
       " 'del',\n",
       " 'elif',\n",
       " 'else',\n",
       " 'except',\n",
       " 'finally',\n",
       " 'for',\n",
       " 'from',\n",
       " 'global',\n",
       " 'if',\n",
       " 'import',\n",
       " 'in',\n",
       " 'is',\n",
       " 'lambda',\n",
       " 'nonlocal',\n",
       " 'not',\n",
       " 'or',\n",
       " 'pass',\n",
       " 'raise',\n",
       " 'return',\n",
       " 'try',\n",
       " 'while',\n",
       " 'with',\n",
       " 'yield']"
      ]
     },
     "execution_count": 4,
     "metadata": {},
     "output_type": "execute_result"
    }
   ],
   "source": [
    "keyword.kwlist"
   ]
  },
  {
   "cell_type": "markdown",
   "id": "86e3b90a",
   "metadata": {},
   "source": [
    "#### Q2) What are the rules to create a variable in python?"
   ]
  },
  {
   "cell_type": "markdown",
   "id": "8873835a",
   "metadata": {},
   "source": [
    "##### Variables cannot be a keyword and should be called as mentioned as it is casesensitive."
   ]
  },
  {
   "cell_type": "markdown",
   "id": "5714faec",
   "metadata": {},
   "source": [
    "#### Q3) What are the standards and conventions followed for the nomenclature of variables in python to improve code readability and maintainability?"
   ]
  },
  {
   "cell_type": "markdown",
   "id": "dca70468",
   "metadata": {},
   "source": [
    "##### it should not start with number it should start with alphabet or underscore and should contain alphanumeric"
   ]
  },
  {
   "cell_type": "markdown",
   "id": "be77f6fb",
   "metadata": {},
   "source": [
    "#### Q4) What will happen if a keyword is used as a variable name?"
   ]
  },
  {
   "cell_type": "markdown",
   "id": "54056485",
   "metadata": {},
   "source": [
    "###### if we use the reserved keywords for variable name it will raise a syntax error."
   ]
  },
  {
   "cell_type": "markdown",
   "id": "0ef2aa05",
   "metadata": {},
   "source": [
    "#### Q5) For what purpose def keyword is used?\n",
    "###### def keyword is used to define a new function in python."
   ]
  },
  {
   "cell_type": "markdown",
   "id": "4022e0ea",
   "metadata": {},
   "source": [
    "#### Q6) What is the operation of this special character ‘\\’?\n",
    "##### The character '\\' is escape characterthat represent certain white spaces in python."
   ]
  },
  {
   "cell_type": "markdown",
   "id": "462e7ef1",
   "metadata": {},
   "source": [
    "#### Q7) Give an example of the following conditions:\n",
    "#### (i) Homogeneous list"
   ]
  },
  {
   "cell_type": "code",
   "execution_count": 14,
   "id": "3703f21e",
   "metadata": {},
   "outputs": [
    {
     "data": {
      "text/plain": [
       "['cat', 'dog', 'lizard']"
      ]
     },
     "execution_count": 14,
     "metadata": {},
     "output_type": "execute_result"
    }
   ],
   "source": [
    "# Homogenous list is the list that contains elements of similar kind such as str, or any other data type\n",
    "Data=['cat','dog','lizard']\n",
    "Data"
   ]
  },
  {
   "cell_type": "markdown",
   "id": "405a9a6b",
   "metadata": {},
   "source": [
    "#### (ii) Heterogenous Set"
   ]
  },
  {
   "cell_type": "code",
   "execution_count": 15,
   "id": "24f5fb68",
   "metadata": {},
   "outputs": [
    {
     "data": {
      "text/plain": [
       "{1, False, 'cat'}"
      ]
     },
     "execution_count": 15,
     "metadata": {},
     "output_type": "execute_result"
    }
   ],
   "source": [
    "# Heterogenous set is that contains elements of dissimilar kind such as str, or any other data type\n",
    "Data={'cat',1,False}\n",
    "Data"
   ]
  },
  {
   "cell_type": "markdown",
   "id": "727bcb16",
   "metadata": {},
   "source": [
    "#### (iii) Homogenous tuple"
   ]
  },
  {
   "cell_type": "code",
   "execution_count": 17,
   "id": "cb5c026c",
   "metadata": {},
   "outputs": [
    {
     "data": {
      "text/plain": [
       "('Cat', 'Plane', 'Lion')"
      ]
     },
     "execution_count": 17,
     "metadata": {},
     "output_type": "execute_result"
    }
   ],
   "source": [
    "# Homogenous tuple that contain similar kind of data type \n",
    "Data=('Cat','Plane','Lion')\n",
    "Data"
   ]
  },
  {
   "cell_type": "markdown",
   "id": "5c539d81",
   "metadata": {},
   "source": [
    "#### Q8) Explain the mutable and immutable data types with proper explanation & examples."
   ]
  },
  {
   "cell_type": "code",
   "execution_count": 20,
   "id": "3ab3b1aa",
   "metadata": {},
   "outputs": [
    {
     "name": "stdout",
     "output_type": "stream",
     "text": [
      "['Cat', 1, 'Four']\n",
      "['Cat', 1, 'Four', 'Clock']\n"
     ]
    }
   ],
   "source": [
    "#Mutable data types\n",
    "# List, Sets, and Dictionaries  are the mutable data types that can be easily edited anytime\n",
    "List=['Cat',1,'Four']\n",
    "print(List)\n",
    "List.append('Clock')\n",
    "print(List)"
   ]
  },
  {
   "cell_type": "code",
   "execution_count": 21,
   "id": "1d0e52dd",
   "metadata": {},
   "outputs": [
    {
     "name": "stdout",
     "output_type": "stream",
     "text": [
      "('Morning', 'Noon', 'Night')\n"
     ]
    }
   ],
   "source": [
    "#ImMutable data types\n",
    "# Strings and Tuples are the immutable data types that cannot be edited\n",
    "Tuple=('Morning','Noon','Night')\n",
    "print(Tuple)"
   ]
  },
  {
   "cell_type": "code",
   "execution_count": 28,
   "id": "92bb4d4c",
   "metadata": {},
   "outputs": [
    {
     "name": "stdout",
     "output_type": "stream",
     "text": [
      "please input any number:5\n",
      "    *\n",
      "   ***\n",
      "  *****\n",
      " *******\n",
      "*********\n"
     ]
    }
   ],
   "source": [
    "n=int(input('please input any number:'))\n",
    "for i in range(n):\n",
    "    for j in range(n-i-1):\n",
    "        print(\" \",end=\"\")\n",
    "    for j in range (2*i+1):\n",
    "        print(\"*\",end=\"\")\n",
    "    print()"
   ]
  },
  {
   "cell_type": "code",
   "execution_count": 30,
   "id": "7e85cd0c",
   "metadata": {},
   "outputs": [
    {
     "name": "stdout",
     "output_type": "stream",
     "text": [
      "please input any number:5\n",
      "|||||||||\n",
      " |||||||\n",
      "  |||||\n",
      "   |||\n",
      "    |\n"
     ]
    }
   ],
   "source": [
    "n=int(input('please input any number:'))\n",
    "for i in range(n):\n",
    "    for j in range(i):\n",
    "        print(\" \",end=\"\")\n",
    "    for j in range (2*(n-i)-1):\n",
    "        print(\"|\",end=\"\")\n",
    "    print()"
   ]
  },
  {
   "cell_type": "code",
   "execution_count": null,
   "id": "3f8c48c0",
   "metadata": {},
   "outputs": [],
   "source": []
  }
 ],
 "metadata": {
  "kernelspec": {
   "display_name": "Python 3 (ipykernel)",
   "language": "python",
   "name": "python3"
  },
  "language_info": {
   "codemirror_mode": {
    "name": "ipython",
    "version": 3
   },
   "file_extension": ".py",
   "mimetype": "text/x-python",
   "name": "python",
   "nbconvert_exporter": "python",
   "pygments_lexer": "ipython3",
   "version": "3.10.9"
  }
 },
 "nbformat": 4,
 "nbformat_minor": 5
}
