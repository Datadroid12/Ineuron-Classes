{
 "cells": [
  {
   "cell_type": "markdown",
   "id": "979fc0d5",
   "metadata": {},
   "source": [
    "##### Q1) What exactly is []?"
   ]
  },
  {
   "cell_type": "markdown",
   "id": "648b5f62",
   "metadata": {},
   "source": [
    "#### Ans) This is a empty list that contains no values in it which are declare by square bracket."
   ]
  },
  {
   "cell_type": "markdown",
   "id": "47a2cf95",
   "metadata": {},
   "source": [
    "#### Q2) In a list of values stored in a variable called spam, how would you assign the value 'hello' as the third value? (Assume [2, 4, 6, 8, 10] are in spam.)"
   ]
  },
  {
   "cell_type": "code",
   "execution_count": 14,
   "id": "eb3d8b53",
   "metadata": {},
   "outputs": [],
   "source": [
    "spam=[2,4,6,8,10]"
   ]
  },
  {
   "cell_type": "code",
   "execution_count": 15,
   "id": "d70fc71b",
   "metadata": {},
   "outputs": [
    {
     "data": {
      "text/plain": [
       "[2, 4, 6, 8, 10]"
      ]
     },
     "execution_count": 15,
     "metadata": {},
     "output_type": "execute_result"
    }
   ],
   "source": [
    "spam"
   ]
  },
  {
   "cell_type": "code",
   "execution_count": 16,
   "id": "72be8113",
   "metadata": {},
   "outputs": [],
   "source": [
    "spam.insert(2,'hello') #to add hello at index position we can use listname.insert(index position, value) without deleting"
   ]
  },
  {
   "cell_type": "code",
   "execution_count": 17,
   "id": "cdb22820",
   "metadata": {},
   "outputs": [
    {
     "data": {
      "text/plain": [
       "[2, 4, 'hello', 6, 8, 10]"
      ]
     },
     "execution_count": 17,
     "metadata": {},
     "output_type": "execute_result"
    }
   ],
   "source": [
    "spam"
   ]
  },
  {
   "cell_type": "markdown",
   "id": "6d3fc910",
   "metadata": {},
   "source": [
    "#### Q3) What is the value of spam[int(int('3' * 2) / 11)]?"
   ]
  },
  {
   "cell_type": "code",
   "execution_count": 18,
   "id": "e3fcf6dc",
   "metadata": {},
   "outputs": [
    {
     "data": {
      "text/plain": [
       "6"
      ]
     },
     "execution_count": 18,
     "metadata": {},
     "output_type": "execute_result"
    }
   ],
   "source": [
    "spam[int(int('3' * 2) / 11)]"
   ]
  },
  {
   "cell_type": "code",
   "execution_count": 19,
   "id": "a96bdf07",
   "metadata": {},
   "outputs": [
    {
     "data": {
      "text/plain": [
       "10"
      ]
     },
     "execution_count": 19,
     "metadata": {},
     "output_type": "execute_result"
    }
   ],
   "source": [
    "spam[-1]"
   ]
  },
  {
   "cell_type": "code",
   "execution_count": 20,
   "id": "5ae4455e",
   "metadata": {},
   "outputs": [
    {
     "data": {
      "text/plain": [
       "[2, 4]"
      ]
     },
     "execution_count": 20,
     "metadata": {},
     "output_type": "execute_result"
    }
   ],
   "source": [
    "spam[:2]"
   ]
  },
  {
   "cell_type": "markdown",
   "id": "71e62ac4",
   "metadata": {},
   "source": [
    "#### Q4) Let's pretend bacon has the list [3.14, 'cat,' 11, 'cat,' True] for the next three questions."
   ]
  },
  {
   "cell_type": "code",
   "execution_count": 22,
   "id": "d1a322ea",
   "metadata": {},
   "outputs": [],
   "source": [
    "bacon=[3.14,'cat',11,'cat',True]"
   ]
  },
  {
   "cell_type": "code",
   "execution_count": 24,
   "id": "c14fa4bb",
   "metadata": {},
   "outputs": [
    {
     "data": {
      "text/plain": [
       "1"
      ]
     },
     "execution_count": 24,
     "metadata": {},
     "output_type": "execute_result"
    }
   ],
   "source": [
    "bacon.index('cat') #it will give the first index position of cat"
   ]
  },
  {
   "cell_type": "markdown",
   "id": "44a54367",
   "metadata": {},
   "source": [
    "#### Q5) How does bacon.append(99) change the look of the list value in bacon?\n",
    "#### Ans) It will append the 99 value at the last index position in a list"
   ]
  },
  {
   "cell_type": "code",
   "execution_count": 25,
   "id": "66f8d234",
   "metadata": {},
   "outputs": [],
   "source": [
    "bacon.append(99)"
   ]
  },
  {
   "cell_type": "code",
   "execution_count": 26,
   "id": "0c89b56c",
   "metadata": {},
   "outputs": [
    {
     "data": {
      "text/plain": [
       "[3.14, 'cat', 11, 'cat', True, 99]"
      ]
     },
     "execution_count": 26,
     "metadata": {},
     "output_type": "execute_result"
    }
   ],
   "source": [
    "bacon"
   ]
  },
  {
   "cell_type": "markdown",
   "id": "ee2c7608",
   "metadata": {},
   "source": [
    "#### Q6) How does bacon.remove('cat') change the look of the list in bacon?\n",
    "#### Ans) it will remove the first string cat in the list"
   ]
  },
  {
   "cell_type": "code",
   "execution_count": 28,
   "id": "a323e4de",
   "metadata": {},
   "outputs": [],
   "source": [
    "bacon.remove('cat')"
   ]
  },
  {
   "cell_type": "code",
   "execution_count": 29,
   "id": "82e5d697",
   "metadata": {},
   "outputs": [
    {
     "data": {
      "text/plain": [
       "[3.14, 11, 'cat', True, 99]"
      ]
     },
     "execution_count": 29,
     "metadata": {},
     "output_type": "execute_result"
    }
   ],
   "source": [
    "bacon"
   ]
  },
  {
   "cell_type": "markdown",
   "id": "69fce67a",
   "metadata": {},
   "source": [
    "#### Q7) What are the list concatenation and list replication operators?"
   ]
  },
  {
   "cell_type": "markdown",
   "id": "b0c5a818",
   "metadata": {},
   "source": [
    "##### Ans) list concatenation operator (+) joins or concatenate two lists while replication operator (*) repitate value"
   ]
  },
  {
   "cell_type": "markdown",
   "id": "026be3ce",
   "metadata": {},
   "source": [
    "#### Q8) What is difference between the list methods append() and insert()?\n",
    "##### Ans) list method append adds a value to the last while insert allows you to add values to a specific index position."
   ]
  },
  {
   "cell_type": "markdown",
   "id": "b7aa8c37",
   "metadata": {},
   "source": [
    "#### Q9) What are the two methods for removing items from a list?\n",
    "##### Ans) in list to remove an element we can use either remove() or delete()"
   ]
  },
  {
   "cell_type": "markdown",
   "id": "9d8a6c05",
   "metadata": {},
   "source": [
    "#### Q10) Describe how list values and string values are identical."
   ]
  },
  {
   "cell_type": "markdown",
   "id": "f13b5a87",
   "metadata": {},
   "source": [
    "##### Ans) list values and string values both have length that can easily be used in for loops and have indexes and can be used with in and not in operators."
   ]
  },
  {
   "cell_type": "markdown",
   "id": "b7576919",
   "metadata": {},
   "source": [
    "#### Q11) What's the difference between tuples and lists?\n",
    "##### Ans) lists are mutable and tuples are immutable on which iteration is fast compared to the list. Tuples use () while list use []"
   ]
  },
  {
   "cell_type": "markdown",
   "id": "33e9ae69",
   "metadata": {},
   "source": [
    "#### Q12How do you type a tuple value that only contains the integer 42?"
   ]
  },
  {
   "cell_type": "code",
   "execution_count": 32,
   "id": "1e968dbb",
   "metadata": {},
   "outputs": [
    {
     "data": {
      "text/plain": [
       "42"
      ]
     },
     "execution_count": 32,
     "metadata": {},
     "output_type": "execute_result"
    }
   ],
   "source": [
    "(42)"
   ]
  },
  {
   "cell_type": "markdown",
   "id": "0a3a6472",
   "metadata": {},
   "source": [
    "#### How do you get a list value's tuple form? How do you get a tuple value's list form?\n",
    "##### The tuple() function to tuple form and list() function is used to change list() for."
   ]
  },
  {
   "cell_type": "markdown",
   "id": "fc6cbdc0",
   "metadata": {},
   "source": [
    "#### Variables that \"contain\" list values are not necessarily lists themselves. Instead, what do they contain?"
   ]
  },
  {
   "cell_type": "markdown",
   "id": "786aae76",
   "metadata": {},
   "source": [
    "##### variables that contain list are primarily referring to the contain in the list."
   ]
  },
  {
   "cell_type": "markdown",
   "id": "284f9bbc",
   "metadata": {},
   "source": [
    "#### How do you distinguish between copy.copy() and copy.deepcopy()?\n",
    "##### copy.copy() function prepares a copy referring to a elements present in the list while deep copy creates a duplicate copy content of elements in a list."
   ]
  },
  {
   "cell_type": "code",
   "execution_count": null,
   "id": "fa4088df",
   "metadata": {},
   "outputs": [],
   "source": []
  }
 ],
 "metadata": {
  "kernelspec": {
   "display_name": "Python 3 (ipykernel)",
   "language": "python",
   "name": "python3"
  },
  "language_info": {
   "codemirror_mode": {
    "name": "ipython",
    "version": 3
   },
   "file_extension": ".py",
   "mimetype": "text/x-python",
   "name": "python",
   "nbconvert_exporter": "python",
   "pygments_lexer": "ipython3",
   "version": "3.10.9"
  }
 },
 "nbformat": 4,
 "nbformat_minor": 5
}
