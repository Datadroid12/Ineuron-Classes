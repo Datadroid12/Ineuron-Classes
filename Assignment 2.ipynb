{
 "cells": [
  {
   "cell_type": "markdown",
   "id": "166ecdb9",
   "metadata": {},
   "source": [
    "### Assignment 2"
   ]
  },
  {
   "cell_type": "markdown",
   "id": "01c446cc",
   "metadata": {},
   "source": [
    "#### What are the two values of the Boolean data type? How do you write them?"
   ]
  },
  {
   "cell_type": "markdown",
   "id": "45964f16",
   "metadata": {},
   "source": [
    "##### The two values of Boolean data type are the True and False"
   ]
  },
  {
   "cell_type": "code",
   "execution_count": 9,
   "id": "23c4e1f1",
   "metadata": {},
   "outputs": [
    {
     "name": "stdout",
     "output_type": "stream",
     "text": [
      "True , it returns the boolean value of x as true\n"
     ]
    }
   ],
   "source": [
    "x='Python'\n",
    "print(bool(x),',','it returns the boolean value of x as true')"
   ]
  },
  {
   "cell_type": "code",
   "execution_count": 10,
   "id": "b3132500",
   "metadata": {},
   "outputs": [
    {
     "name": "stdout",
     "output_type": "stream",
     "text": [
      "False , it returns boolean value as false as the statement x is not equals to y\n"
     ]
    }
   ],
   "source": [
    "x=5\n",
    "y=6\n",
    "print(bool(x==y),',','it returns boolean value as false as the statement x is not equals to y')"
   ]
  },
  {
   "cell_type": "markdown",
   "id": "7130920f",
   "metadata": {},
   "source": [
    "#### What are the three different types of Boolean operators?"
   ]
  },
  {
   "cell_type": "code",
   "execution_count": 27,
   "id": "a216dedc",
   "metadata": {},
   "outputs": [
    {
     "name": "stdout",
     "output_type": "stream",
     "text": [
      "False , it returns false as 4 is less than 5 and less than 6\n",
      "True , it will return true as one condition where 4 is less than 10 is correct\n",
      "False , it will reverse the statement as false when we use not operator\n"
     ]
    }
   ],
   "source": [
    "\"\"\"The three different types of boolean operator are the AND, OR, and NOT operator and some of the examples are:\"\"\"\n",
    "X=4\n",
    "print(X>5 and X<6,\",\", 'it returns false as 4 is less than 5 and less than 6')\n",
    "\n",
    "print(X>5 or X<10,\",\",'it will return true as one condition where 4 is less than 10 is correct')\n",
    "\n",
    "print(not(X>3 and x<6),\",\", 'it will reverse the statement as false when we use not operator')"
   ]
  },
  {
   "cell_type": "markdown",
   "id": "f392c583",
   "metadata": {},
   "source": [
    "#### What are the values of the following expressions?"
   ]
  },
  {
   "cell_type": "code",
   "execution_count": 34,
   "id": "27504baf",
   "metadata": {},
   "outputs": [
    {
     "data": {
      "text/plain": [
       "False"
      ]
     },
     "execution_count": 34,
     "metadata": {},
     "output_type": "execute_result"
    }
   ],
   "source": [
    "(5 > 4) and (3 == 5)"
   ]
  },
  {
   "cell_type": "code",
   "execution_count": 35,
   "id": "a02c02c7",
   "metadata": {},
   "outputs": [
    {
     "data": {
      "text/plain": [
       "False"
      ]
     },
     "execution_count": 35,
     "metadata": {},
     "output_type": "execute_result"
    }
   ],
   "source": [
    "not (5 > 4)"
   ]
  },
  {
   "cell_type": "code",
   "execution_count": 36,
   "id": "0d569530",
   "metadata": {},
   "outputs": [
    {
     "data": {
      "text/plain": [
       "True"
      ]
     },
     "execution_count": 36,
     "metadata": {},
     "output_type": "execute_result"
    }
   ],
   "source": [
    "(5 > 4) or (3 == 5)"
   ]
  },
  {
   "cell_type": "code",
   "execution_count": 37,
   "id": "66a429c8",
   "metadata": {},
   "outputs": [
    {
     "data": {
      "text/plain": [
       "False"
      ]
     },
     "execution_count": 37,
     "metadata": {},
     "output_type": "execute_result"
    }
   ],
   "source": [
    "not ((5 > 4) or (3 == 5))"
   ]
  },
  {
   "cell_type": "code",
   "execution_count": 38,
   "id": "efe3a2b2",
   "metadata": {},
   "outputs": [
    {
     "data": {
      "text/plain": [
       "False"
      ]
     },
     "execution_count": 38,
     "metadata": {},
     "output_type": "execute_result"
    }
   ],
   "source": [
    "(True and True) and (True == False)"
   ]
  },
  {
   "cell_type": "code",
   "execution_count": 39,
   "id": "4dba6554",
   "metadata": {},
   "outputs": [
    {
     "data": {
      "text/plain": [
       "True"
      ]
     },
     "execution_count": 39,
     "metadata": {},
     "output_type": "execute_result"
    }
   ],
   "source": [
    "(not False) or (not True)"
   ]
  },
  {
   "cell_type": "markdown",
   "id": "26bf3912",
   "metadata": {},
   "source": [
    "####  What are the six comparison operators?"
   ]
  },
  {
   "cell_type": "code",
   "execution_count": 40,
   "id": "20d5a223",
   "metadata": {},
   "outputs": [
    {
     "data": {
      "text/plain": [
       "'The Six Comparison operators are: == Equal, != not equal, < less than, > greater than, >= greater than equal, <= less than equal'"
      ]
     },
     "execution_count": 40,
     "metadata": {},
     "output_type": "execute_result"
    }
   ],
   "source": [
    "'The Six Comparison operators are: == Equal, != not equal, < less than, > greater than, >= greater than equal, <= less than equal'"
   ]
  },
  {
   "cell_type": "markdown",
   "id": "c94631c9",
   "metadata": {},
   "source": [
    "#### How do you tell the difference between the equal to and assignment operators?Describe a condition and when you would use one?"
   ]
  },
  {
   "cell_type": "code",
   "execution_count": 2,
   "id": "2826625d",
   "metadata": {},
   "outputs": [
    {
     "name": "stdout",
     "output_type": "stream",
     "text": [
      "4\n"
     ]
    }
   ],
   "source": [
    "'Assignment operator (=) helps you assign a value'\n",
    "X=4\n",
    "Y=6\n",
    "print(X)"
   ]
  },
  {
   "cell_type": "code",
   "execution_count": 4,
   "id": "bd33af16",
   "metadata": {},
   "outputs": [
    {
     "name": "stdout",
     "output_type": "stream",
     "text": [
      "False\n"
     ]
    }
   ],
   "source": [
    "'Equal to (==) is a comparison operator that performs logical test on comparing'\n",
    "X==Y\n",
    "print(X==Y)"
   ]
  },
  {
   "cell_type": "code",
   "execution_count": 5,
   "id": "8e7604cf",
   "metadata": {},
   "outputs": [
    {
     "name": "stdout",
     "output_type": "stream",
     "text": [
      "ham\n",
      "spam\n",
      "spam\n"
     ]
    }
   ],
   "source": [
    "'Identify the three blocks in this code:'\n",
    "spam = 0\n",
    "if spam == 10:\n",
    "    print('eggs')\n",
    "if spam > 5:\n",
    "    print('bacon')\n",
    "else:\n",
    "    print('ham')\n",
    "    print('spam')\n",
    "    print('spam')\n"
   ]
  },
  {
   "cell_type": "markdown",
   "id": "7885815c",
   "metadata": {},
   "source": [
    "#### Write code that prints Hello if 1 is stored in spam, prints Howdy if 2 is stored in spam, and prints Greetings! if anything else is stored in spam."
   ]
  },
  {
   "cell_type": "code",
   "execution_count": 6,
   "id": "b629a248",
   "metadata": {},
   "outputs": [
    {
     "name": "stdout",
     "output_type": "stream",
     "text": [
      "Please enter a number: 3\n",
      "Greetings!\n"
     ]
    }
   ],
   "source": [
    "spam=int(input('Please enter a number: '))\n",
    "\n",
    "if spam==1:\n",
    "    print('Hello')\n",
    "elif spam==2:\n",
    "    print('Howdy')\n",
    "else:\n",
    "    print('Greetings!')"
   ]
  },
  {
   "cell_type": "markdown",
   "id": "3394eeaa",
   "metadata": {},
   "source": [
    "#### If your programme is stuck in an endless loop, what keys you’ll press?\n",
    "'The Shortcut is Ctrl + c thaat kills the current running code and exit.'"
   ]
  },
  {
   "cell_type": "markdown",
   "id": "34c8bc62",
   "metadata": {},
   "source": [
    "#### How can you tell the difference between break and continue?\n",
    "   Break and continue are loop control statements\n",
    "   the difference between break is, it terminates the loop when a condition is satisfied\n",
    "   while the continue skips that particular condition result if true and move to the next."
   ]
  },
  {
   "cell_type": "markdown",
   "id": "0be17dce",
   "metadata": {},
   "source": [
    "####  In a for loop, what is the difference between range(10), range(0, 10), and range(0, 10, 1)?\n",
    "In a for loop when we use range(10) which states the range is till 10, \n",
    "while range (0,10) states it starts with 0 and ends with 10, \n",
    "and range (0,10,1) means starts with 0 ends with 10 and step count of 1. while range is all exclusive of last number."
   ]
  },
  {
   "cell_type": "code",
   "execution_count": 17,
   "id": "2d5184fa",
   "metadata": {},
   "outputs": [
    {
     "name": "stdout",
     "output_type": "stream",
     "text": [
      "1\n",
      "2\n",
      "3\n",
      "4\n",
      "5\n",
      "6\n",
      "7\n",
      "8\n",
      "9\n",
      "10\n"
     ]
    }
   ],
   "source": [
    "for x in range(1,11,1):\n",
    "    print(x)"
   ]
  },
  {
   "cell_type": "code",
   "execution_count": 21,
   "id": "2d4fd579",
   "metadata": {},
   "outputs": [
    {
     "name": "stdout",
     "output_type": "stream",
     "text": [
      "1\n",
      "2\n",
      "3\n",
      "4\n",
      "5\n",
      "6\n",
      "7\n",
      "8\n",
      "9\n",
      "10\n"
     ]
    }
   ],
   "source": [
    "n=1\n",
    "while n<=10:\n",
    "    print(n)\n",
    "    n=n+1"
   ]
  },
  {
   "cell_type": "markdown",
   "id": "e790200c",
   "metadata": {},
   "source": [
    "#### If you had a function named bacon() inside a module named spam, how would you call it after importing spam?\n",
    "the syntax is python import spam then spam.bacon()"
   ]
  },
  {
   "cell_type": "code",
   "execution_count": null,
   "id": "c4fe8226",
   "metadata": {},
   "outputs": [],
   "source": []
  }
 ],
 "metadata": {
  "kernelspec": {
   "display_name": "Python 3 (ipykernel)",
   "language": "python",
   "name": "python3"
  },
  "language_info": {
   "codemirror_mode": {
    "name": "ipython",
    "version": 3
   },
   "file_extension": ".py",
   "mimetype": "text/x-python",
   "name": "python",
   "nbconvert_exporter": "python",
   "pygments_lexer": "ipython3",
   "version": "3.10.9"
  }
 },
 "nbformat": 4,
 "nbformat_minor": 5
}
