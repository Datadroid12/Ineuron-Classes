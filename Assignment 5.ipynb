{
 "cells": [
  {
   "cell_type": "markdown",
   "id": "5cd6cdac",
   "metadata": {},
   "source": [
    "#### . What does an empty dictionary's code look like?"
   ]
  },
  {
   "cell_type": "markdown",
   "id": "49befb26",
   "metadata": {},
   "source": [
    "##### Empty Dictionaries can be created with the dict constructor with no key value pairs added in it."
   ]
  },
  {
   "cell_type": "code",
   "execution_count": 4,
   "id": "1ab5f05a",
   "metadata": {},
   "outputs": [
    {
     "name": "stdout",
     "output_type": "stream",
     "text": [
      "D1 data type is <class 'dict'>\n",
      "D2 data type is <class 'dict'>\n"
     ]
    }
   ],
   "source": [
    "D1={}\n",
    "print('D1 data type is',type(D1))\n",
    "\n",
    "#Or\n",
    "\n",
    "D2=dict()\n",
    "\n",
    "print('D2 data type is', type(D2))"
   ]
  },
  {
   "cell_type": "code",
   "execution_count": 6,
   "id": "de119f8c",
   "metadata": {},
   "outputs": [
    {
     "data": {
      "text/plain": [
       "dict_values([42])"
      ]
     },
     "execution_count": 6,
     "metadata": {},
     "output_type": "execute_result"
    }
   ],
   "source": [
    "#### What is the value of a dictionary value with the key 'foo' and the value 42?\n",
    "D={'foo':42}\n",
    "D.values()"
   ]
  },
  {
   "cell_type": "markdown",
   "id": "b4e76de3",
   "metadata": {},
   "source": [
    "#### What is the most significant distinction between a dictionary and a list?"
   ]
  },
  {
   "cell_type": "markdown",
   "id": "a44391f4",
   "metadata": {},
   "source": [
    "##### dictionaries are the key value pairs while list stores elements in an ordered structure that makes it complex to retrieve data."
   ]
  },
  {
   "cell_type": "markdown",
   "id": "41b54366",
   "metadata": {},
   "source": [
    "#### What happens if you try to access spam['foo'] if spam is {'bar': 100}?"
   ]
  },
  {
   "cell_type": "markdown",
   "id": "70d10650",
   "metadata": {},
   "source": [
    "##### IF we try to access spam['foo'] in the spam dictionary it will throw a key error as we have not added key to the dictionary."
   ]
  },
  {
   "cell_type": "code",
   "execution_count": 9,
   "id": "3ea85495",
   "metadata": {},
   "outputs": [
    {
     "ename": "KeyError",
     "evalue": "'foo'",
     "output_type": "error",
     "traceback": [
      "\u001b[1;31m---------------------------------------------------------------------------\u001b[0m",
      "\u001b[1;31mKeyError\u001b[0m                                  Traceback (most recent call last)",
      "Cell \u001b[1;32mIn[9], line 2\u001b[0m\n\u001b[0;32m      1\u001b[0m spam\u001b[38;5;241m=\u001b[39m{\u001b[38;5;124m'\u001b[39m\u001b[38;5;124mbar\u001b[39m\u001b[38;5;124m'\u001b[39m:\u001b[38;5;241m100\u001b[39m}\n\u001b[1;32m----> 2\u001b[0m \u001b[43mspam\u001b[49m\u001b[43m[\u001b[49m\u001b[38;5;124;43m'\u001b[39;49m\u001b[38;5;124;43mfoo\u001b[39;49m\u001b[38;5;124;43m'\u001b[39;49m\u001b[43m]\u001b[49m\n",
      "\u001b[1;31mKeyError\u001b[0m: 'foo'"
     ]
    }
   ],
   "source": [
    "spam={'bar':100}\n",
    "spam['foo']"
   ]
  },
  {
   "cell_type": "markdown",
   "id": "d1fc22c6",
   "metadata": {},
   "source": [
    "#### If a dictionary is stored in spam, what is the difference between the expressions 'cat' in spam and 'cat' in spam.keys()?"
   ]
  },
  {
   "cell_type": "code",
   "execution_count": 10,
   "id": "98622996",
   "metadata": {},
   "outputs": [
    {
     "data": {
      "text/plain": [
       "False"
      ]
     },
     "execution_count": 10,
     "metadata": {},
     "output_type": "execute_result"
    }
   ],
   "source": [
    "'cat' in spam"
   ]
  },
  {
   "cell_type": "code",
   "execution_count": 11,
   "id": "df6b180d",
   "metadata": {},
   "outputs": [
    {
     "data": {
      "text/plain": [
       "False"
      ]
     },
     "execution_count": 11,
     "metadata": {},
     "output_type": "execute_result"
    }
   ],
   "source": [
    "'cat' in spam.keys()"
   ]
  },
  {
   "cell_type": "markdown",
   "id": "6e53f54d",
   "metadata": {},
   "source": [
    "##### Both the statement will check for key named cat in the dictionary and returns true if present else false."
   ]
  },
  {
   "cell_type": "markdown",
   "id": "682e10c1",
   "metadata": {},
   "source": [
    "#### What is a shortcut for the following code?\n",
    "#### if 'color' not in spam:\n",
    "  #### spam['color'] = 'black'"
   ]
  },
  {
   "cell_type": "code",
   "execution_count": 12,
   "id": "2e5e1a60",
   "metadata": {},
   "outputs": [
    {
     "data": {
      "text/plain": [
       "'black'"
      ]
     },
     "execution_count": 12,
     "metadata": {},
     "output_type": "execute_result"
    }
   ],
   "source": [
    "spam.setdefault('color','black')"
   ]
  },
  {
   "cell_type": "code",
   "execution_count": 13,
   "id": "7c871b29",
   "metadata": {},
   "outputs": [
    {
     "data": {
      "text/plain": [
       "{'bar': 100, 'color': 'black'}"
      ]
     },
     "execution_count": 13,
     "metadata": {},
     "output_type": "execute_result"
    }
   ],
   "source": [
    "spam"
   ]
  },
  {
   "cell_type": "markdown",
   "id": "19094a57",
   "metadata": {},
   "source": [
    "#### How do you \"pretty print\" dictionary values using which module and function?"
   ]
  },
  {
   "cell_type": "code",
   "execution_count": 15,
   "id": "468303b2",
   "metadata": {},
   "outputs": [],
   "source": [
    "import pprint"
   ]
  },
  {
   "cell_type": "code",
   "execution_count": 17,
   "id": "aabe5c65",
   "metadata": {},
   "outputs": [
    {
     "name": "stdout",
     "output_type": "stream",
     "text": [
      "{'bar': 100}\n"
     ]
    }
   ],
   "source": [
    "spam={'bar':100}\n",
    "pprint.pprint(spam)"
   ]
  },
  {
   "cell_type": "code",
   "execution_count": null,
   "id": "87d40d60",
   "metadata": {},
   "outputs": [],
   "source": []
  }
 ],
 "metadata": {
  "kernelspec": {
   "display_name": "Python 3 (ipykernel)",
   "language": "python",
   "name": "python3"
  },
  "language_info": {
   "codemirror_mode": {
    "name": "ipython",
    "version": 3
   },
   "file_extension": ".py",
   "mimetype": "text/x-python",
   "name": "python",
   "nbconvert_exporter": "python",
   "pygments_lexer": "ipython3",
   "version": "3.10.9"
  }
 },
 "nbformat": 4,
 "nbformat_minor": 5
}
