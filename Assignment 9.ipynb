{
 "cells": [
  {
   "cell_type": "markdown",
   "id": "821e3b12",
   "metadata": {},
   "source": [
    "## Assignment 9"
   ]
  },
  {
   "cell_type": "markdown",
   "id": "af92a880",
   "metadata": {},
   "source": [
    "### What is a lambda function in Python, and how does it differ from a regular function?"
   ]
  },
  {
   "cell_type": "markdown",
   "id": "1a344091",
   "metadata": {},
   "source": [
    "###### lambda is a spontaneous code that does not need to be declared and don't need return to get output as it is present by default"
   ]
  },
  {
   "cell_type": "markdown",
   "id": "c445cb6c",
   "metadata": {},
   "source": [
    "### Can a lambda function in Python have multiple arguments? If yes, how can you define and use them?"
   ]
  },
  {
   "cell_type": "markdown",
   "id": "c015bd21",
   "metadata": {},
   "source": [
    "#### Lambda can take multiple arguements and it doesnot need proper declration"
   ]
  },
  {
   "cell_type": "code",
   "execution_count": 1,
   "id": "dc5dc0c5",
   "metadata": {},
   "outputs": [
    {
     "name": "stdout",
     "output_type": "stream",
     "text": [
      "30\n"
     ]
    }
   ],
   "source": [
    "# How are lambda functions typically used in Python? Provide an example use case.\n",
    "add=lambda x,y :x+y\n",
    "print(add(10,20))"
   ]
  },
  {
   "cell_type": "markdown",
   "id": "68a7ca93",
   "metadata": {},
   "source": [
    "### What are the advantages and limitations of lambda functions compared to regular functions in Python?"
   ]
  },
  {
   "cell_type": "markdown",
   "id": "9130bcb0",
   "metadata": {},
   "source": [
    "Advantages:\n",
    "As lambda is a spontaneous code it is a one liner and doesn't need declration.\n",
    "Also, being anonymous function it can be easily assign to a variable.       \n",
    "it doesnot need return to print the final output."
   ]
  },
  {
   "cell_type": "markdown",
   "id": "c86ad075",
   "metadata": {},
   "source": [
    "Limitations: it can only evaluate one expression at a time.                  \n",
    "complexity in reading while writting big code."
   ]
  },
  {
   "cell_type": "markdown",
   "id": "df5a8df9",
   "metadata": {},
   "source": [
    "### Are lambda functions in Python able to access variables defined outside of their own scope? Explain with an example."
   ]
  },
  {
   "cell_type": "code",
   "execution_count": 2,
   "id": "7842ae65",
   "metadata": {},
   "outputs": [
    {
     "name": "stdout",
     "output_type": "stream",
     "text": [
      "enter any number4\n",
      "The number is divisible\n"
     ]
    }
   ],
   "source": [
    "a=(int(input('enter any number')))\n",
    "if a!=0:\n",
    "    divsible = lambda a:a%2==0\n",
    "    print('The number is divisible')"
   ]
  },
  {
   "cell_type": "markdown",
   "id": "375cbc26",
   "metadata": {},
   "source": [
    "### Write a lambda function to calculate the square of a given number?"
   ]
  },
  {
   "cell_type": "code",
   "execution_count": 3,
   "id": "f8045f62",
   "metadata": {},
   "outputs": [
    {
     "name": "stdout",
     "output_type": "stream",
     "text": [
      "enter any number8\n",
      "The square of number is 64\n"
     ]
    }
   ],
   "source": [
    "a=(int(input('enter any number')))\n",
    "if a!=0:\n",
    "    Sqr = lambda a:a*a\n",
    "    print(f\"The square of number is {Sqr(a)}\")"
   ]
  },
  {
   "cell_type": "markdown",
   "id": "3526c189",
   "metadata": {},
   "source": [
    "### Create a lambda function to find the maximum value in a list of integers?"
   ]
  },
  {
   "cell_type": "code",
   "execution_count": 4,
   "id": "3f431397",
   "metadata": {},
   "outputs": [
    {
     "name": "stdout",
     "output_type": "stream",
     "text": [
      "9\n"
     ]
    }
   ],
   "source": [
    "list1=[4,2,5,9,7,6,3]\n",
    "print(max(list1, key= lambda value:int(value)))"
   ]
  },
  {
   "cell_type": "markdown",
   "id": "b4bd95b6",
   "metadata": {},
   "source": [
    "### Implement a lambda function to filter out all the even numbers from a list of integers."
   ]
  },
  {
   "cell_type": "code",
   "execution_count": 5,
   "id": "71658d7f",
   "metadata": {},
   "outputs": [
    {
     "name": "stdout",
     "output_type": "stream",
     "text": [
      "[4, 6, 8, 0, 4, 2]\n"
     ]
    }
   ],
   "source": [
    "nums=[1,5,4,6,9,8,7,0,4,2,3]\n",
    "even_nums=list(filter(lambda x:x%2==0, nums))\n",
    "print(even_nums)"
   ]
  },
  {
   "cell_type": "markdown",
   "id": "338483eb",
   "metadata": {},
   "source": [
    "### Write a lambda function to sort a list of strings in ascending order based on the length of each string."
   ]
  },
  {
   "cell_type": "code",
   "execution_count": 6,
   "id": "eebbef71",
   "metadata": {},
   "outputs": [
    {
     "name": "stdout",
     "output_type": "stream",
     "text": [
      "['Riya', 'Sagar', 'Smith', 'Samarth', 'Srikrishnan']\n"
     ]
    }
   ],
   "source": [
    "List=['Sagar','Smith','Riya','Samarth','Srikrishnan']\n",
    "Sorted_list=sorted(List, key=lambda li:len(li))\n",
    "print(Sorted_list)"
   ]
  },
  {
   "cell_type": "markdown",
   "id": "ec2de6fa",
   "metadata": {},
   "source": [
    "### Create a lambda function that takes two lists as input and returns a new list containing the common elements between the two lists."
   ]
  },
  {
   "cell_type": "code",
   "execution_count": 7,
   "id": "ca708db8",
   "metadata": {},
   "outputs": [
    {
     "name": "stdout",
     "output_type": "stream",
     "text": [
      "Enter the elements separated by space:sun door 4 3 1 fish\n",
      "Enter the elements separated by space:2 4 door 1 6 7\n",
      "['sun', 'door', '4', '3', '1', 'fish']\n",
      "['2', '4', 'door', '1', '6', '7']\n",
      "common elements are: ['4', 'door', '1']\n"
     ]
    }
   ],
   "source": [
    "l1=input('Enter the elements separated by space:').split()\n",
    "l2=input('Enter the elements separated by space:').split()\n",
    "print(l1)\n",
    "print(l2)\n",
    "Common_list=list(filter(lambda element:element in l1, l2))\n",
    "print('common elements are:',Common_list)"
   ]
  },
  {
   "cell_type": "markdown",
   "id": "a6387e70",
   "metadata": {},
   "source": [
    "### Write a recursive function to calculate the factorial of a given positive integer."
   ]
  },
  {
   "cell_type": "code",
   "execution_count": 8,
   "id": "bc893c38",
   "metadata": {},
   "outputs": [
    {
     "name": "stdout",
     "output_type": "stream",
     "text": [
      "enter any number:5\n",
      "The factorial of 5 is 120\n"
     ]
    }
   ],
   "source": [
    "# recursive function is a process in terms of defining itself in which a function calls itself directly or indirwectly.\n",
    "\n",
    "#Factorial of a number using recursion\n",
    "\n",
    "num=int(input('enter any number:'))\n",
    "\n",
    "def recursive_fac(n):\n",
    "    if n == 1:\n",
    "        return n\n",
    "    else:\n",
    "        return n*recursive_fac(n-1)\n",
    "\n",
    "\n",
    "# check if the number is negative\n",
    "if num == 0:\n",
    "    print(\"The factorial of 0 is 1\")\n",
    "else:\n",
    "    print(\"The factorial of\", num, \"is\", recursive_fac(num))"
   ]
  },
  {
   "cell_type": "markdown",
   "id": "7cbb5c3e",
   "metadata": {},
   "source": [
    "### Implement a recursive function to compute the nth Fibonacci number."
   ]
  },
  {
   "cell_type": "code",
   "execution_count": 9,
   "id": "57c9567a",
   "metadata": {},
   "outputs": [
    {
     "name": "stdout",
     "output_type": "stream",
     "text": [
      "enter any number:6\n"
     ]
    },
    {
     "data": {
      "text/plain": [
       "8"
      ]
     },
     "execution_count": 9,
     "metadata": {},
     "output_type": "execute_result"
    }
   ],
   "source": [
    "# Defining a recursive fibonacci function\n",
    "\n",
    "num=int(input('enter any number:'))\n",
    "\n",
    "def fibonacci(num):\n",
    "    if num <=1:\n",
    "        return num\n",
    "    else:\n",
    "        return (fibonacci(num-1)+fibonacci(num-2))\n",
    "    \n",
    "fibonacci(num)"
   ]
  },
  {
   "cell_type": "markdown",
   "id": "c67923b0",
   "metadata": {},
   "source": [
    "### Create a recursive function to find the sum of all the elements in a given list."
   ]
  },
  {
   "cell_type": "code",
   "execution_count": 12,
   "id": "f7814610",
   "metadata": {},
   "outputs": [
    {
     "name": "stdout",
     "output_type": "stream",
     "text": [
      "15\n"
     ]
    }
   ],
   "source": [
    "\n",
    "def sum_list(l1):\n",
    "    if len(l1)==0:\n",
    "        return 0\n",
    "    elif len(l1) ==1:\n",
    "        return l1[0]\n",
    "    else:\n",
    "        return l1[0] + sum_list(l1[1:]) \n",
    "\n",
    "print(sum_list([1, 3, 4, 2, 5]))"
   ]
  },
  {
   "cell_type": "markdown",
   "id": "e3926596",
   "metadata": {},
   "source": [
    "### Write a recursive function to determine whether a given string is a palindrome."
   ]
  },
  {
   "cell_type": "code",
   "execution_count": 17,
   "id": "6b01eb14",
   "metadata": {},
   "outputs": [
    {
     "name": "stdout",
     "output_type": "stream",
     "text": [
      "True\n",
      "False\n"
     ]
    }
   ],
   "source": [
    "def palindrome(Str):\n",
    "    if len(Str)<=1:\n",
    "        return True\n",
    "    elif Str[0] != Str[len(Str)-1]:\n",
    "        return False\n",
    "    else:\n",
    "        return palindrome(Str[1:len(Str)-1])\n",
    "    \n",
    "print(palindrome('SUS'))\n",
    "print(palindrome('son'))"
   ]
  },
  {
   "cell_type": "markdown",
   "id": "21abaa51",
   "metadata": {},
   "source": [
    "### Implement a recursive function to find the greatest common divisor (GCD) of two positive integers."
   ]
  },
  {
   "cell_type": "code",
   "execution_count": 19,
   "id": "b53eaaa0",
   "metadata": {},
   "outputs": [
    {
     "name": "stdout",
     "output_type": "stream",
     "text": [
      "enter first number:36\n",
      "enter second number:4\n"
     ]
    },
    {
     "data": {
      "text/plain": [
       "4"
      ]
     },
     "execution_count": 19,
     "metadata": {},
     "output_type": "execute_result"
    }
   ],
   "source": [
    "def GCD(a,b):\n",
    "    if b==0:\n",
    "        return a\n",
    "    else:\n",
    "        return GCD(b, a%b)\n",
    "    \n",
    "a=int(input('enter first number:'))\n",
    "b=int(input('enter second number:'))\n",
    "\n",
    "GCD(a,b)"
   ]
  },
  {
   "cell_type": "code",
   "execution_count": null,
   "id": "85f3057a",
   "metadata": {},
   "outputs": [],
   "source": []
  }
 ],
 "metadata": {
  "kernelspec": {
   "display_name": "Python 3 (ipykernel)",
   "language": "python",
   "name": "python3"
  },
  "language_info": {
   "codemirror_mode": {
    "name": "ipython",
    "version": 3
   },
   "file_extension": ".py",
   "mimetype": "text/x-python",
   "name": "python",
   "nbconvert_exporter": "python",
   "pygments_lexer": "ipython3",
   "version": "3.10.9"
  }
 },
 "nbformat": 4,
 "nbformat_minor": 5
}
