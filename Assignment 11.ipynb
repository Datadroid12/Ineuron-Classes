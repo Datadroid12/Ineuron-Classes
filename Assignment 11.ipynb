{
 "cells": [
  {
   "cell_type": "markdown",
   "id": "1d28bc8d",
   "metadata": {},
   "source": [
    "### What is the role of the 'else' block in a try-except statement? Provide an example scenario where it would be useful."
   ]
  },
  {
   "cell_type": "code",
   "execution_count": 8,
   "id": "69a097d8",
   "metadata": {},
   "outputs": [
    {
     "name": "stdout",
     "output_type": "stream",
     "text": [
      "Enter a number: 3\n",
      "False\n",
      "0.3333333333333333\n"
     ]
    }
   ],
   "source": [
    "#Else Block in a exception handling allows user to execute the program even if there is and error occured \n",
    "\n",
    "try:\n",
    "    num = int(input(\"Enter a number: \"))\n",
    "    print(num % 2 == 0)\n",
    "except:\n",
    "    print(\"Not an even number!\")\n",
    "else:\n",
    "    Inverse = 1/num\n",
    "    print(Inverse)"
   ]
  },
  {
   "cell_type": "markdown",
   "id": "faf6adda",
   "metadata": {},
   "source": [
    "### Can a try-except block be nested inside another try-except block? Explain with an example."
   ]
  },
  {
   "cell_type": "code",
   "execution_count": 11,
   "id": "f6039573",
   "metadata": {},
   "outputs": [
    {
     "name": "stdout",
     "output_type": "stream",
     "text": [
      "enter any number4\n",
      "enter any number2\n",
      "4\n",
      "The division value is: 2\n"
     ]
    }
   ],
   "source": [
    "x=int(input('enter any number'))\n",
    "y=int(input('enter any number'))\n",
    "try:\n",
    "    print(x)\n",
    "    try:\n",
    "        result=x//y\n",
    "        print('The division value is:',result)\n",
    "    except ZeroDivisionError:\n",
    "        print(\"can't divide number by zero\")\n",
    "except ValueError:\n",
    "    print('value error occured')"
   ]
  },
  {
   "cell_type": "markdown",
   "id": "347e8ecb",
   "metadata": {},
   "source": [
    "### How can you create a custom exception class in Python? Provide an example that demonstrates its usage."
   ]
  },
  {
   "cell_type": "code",
   "execution_count": 12,
   "id": "28749a14",
   "metadata": {},
   "outputs": [
    {
     "name": "stdout",
     "output_type": "stream",
     "text": [
      "Error: Cannot calculate average of an empty list.\n"
     ]
    }
   ],
   "source": [
    "#First we will define a custom exception blanklist inside that we create a function to check length of input number is zero\n",
    "#if it is, we raise the blanklist exxception with a custom descriptive message\n",
    "class Blanklisterror(Exception):\n",
    "    pass\n",
    "\n",
    "def average(numbers):\n",
    "    if len(numbers) == 0:\n",
    "        raise Blanklisterror(\"Cannot calculate average of an empty list.\")\n",
    "    # Rest of the code for calculating the average\n",
    "\n",
    "# Example usage\n",
    "try:\n",
    "    average([])  # Passing an empty list as input\n",
    "except Blanklisterror as Ble:\n",
    "    print(\"Error:\", str(Ble))"
   ]
  },
  {
   "cell_type": "markdown",
   "id": "486bff76",
   "metadata": {},
   "source": [
    "### What are some common exceptions that are built-in to Python?"
   ]
  },
  {
   "cell_type": "markdown",
   "id": "156a54d4",
   "metadata": {},
   "source": [
    "Some Exceptions that are built in python are:\n",
    "Base Exceptions\n",
    "\n",
    "Arithmetic error (ZeroDivisionError,FloatingPointError)\n",
    "Lookup error (IndexError,KeyError)\n",
    "\n",
    "Concrete Exceptions\n",
    "\n",
    "AssertionError\n",
    "AttributeError\n",
    "ImportError\n",
    "ModuleNotFoundError\n",
    "KeyboardInterrupt\n",
    "MemoryError\n",
    "NameError\n",
    "OverflowError\n",
    "RecursionError\n",
    "ReferenceError\n",
    "RuntimeError\n",
    "SyntaxError"
   ]
  },
  {
   "cell_type": "markdown",
   "id": "6d8fe855",
   "metadata": {},
   "source": [
    "### What is logging in Python, and why is it important in software development?"
   ]
  },
  {
   "cell_type": "markdown",
   "id": "99d5c32e",
   "metadata": {},
   "source": [
    "Logging in python is means to tracking the events that get records on some software runs. Logging is essential for the application behaviour and to debug unexpected issues or for simply tracking events. Usually, In the production environment, we can't debug problems without a proper log file as they are only source of information to debug some intermittent or unexpected errors."
   ]
  },
  {
   "cell_type": "markdown",
   "id": "ee34794b",
   "metadata": {},
   "source": [
    "### Explain the purpose of log levels in Python logging and provide examples of when each log level would be appropriate."
   ]
  },
  {
   "cell_type": "code",
   "execution_count": 4,
   "id": "8dceb894",
   "metadata": {},
   "outputs": [
    {
     "name": "stderr",
     "output_type": "stream",
     "text": [
      "DEBUG:root:variables are 2 and 2\n"
     ]
    },
    {
     "data": {
      "text/plain": [
       "4"
      ]
     },
     "execution_count": 4,
     "metadata": {},
     "output_type": "execute_result"
    }
   ],
   "source": [
    "import logging\n",
    "#Log levels relate to the 'importance' of the log. \n",
    "#Debug increasing order danger\n",
    "#info\n",
    "#warning\n",
    "#error\n",
    "#critical error\n",
    "\n",
    "\n",
    "def add(x,y):\n",
    "    logging.debug('variables are %s and %s', x,y)\n",
    "    return x+y\n",
    "\n",
    "add(2,2)"
   ]
  },
  {
   "cell_type": "markdown",
   "id": "d93f4818",
   "metadata": {},
   "source": [
    "### What are log formatters in Python logging, and how can you customise the log message format using formatters?"
   ]
  },
  {
   "cell_type": "code",
   "execution_count": 6,
   "id": "7265985f",
   "metadata": {},
   "outputs": [
    {
     "name": "stderr",
     "output_type": "stream",
     "text": [
      "2023-07-08 18:16:11,731:WARNING:This is a Warning\n"
     ]
    }
   ],
   "source": [
    "# Log formatters basically enhances the log messages didplay by adding the context information into it.\n",
    "import logging\n",
    "logging.basicConfig(level=logging.WARNING)\n",
    "\n",
    "#logFormatter = logging.Formatter(fmt=' %(name)s :: %(levelname)-8s :: %(message)s')\n",
    "fmt='%(process)d-%(levelname)s-%(message)s'\n",
    "formatter=logging.Formatter(fmt)\n",
    "\n",
    "logging.warning('This is a Warning')"
   ]
  },
  {
   "cell_type": "markdown",
   "id": "28cf228d",
   "metadata": {},
   "source": [
    "### How can you set up logging to capture log messages from multiple modules or classes in a Python application?"
   ]
  },
  {
   "cell_type": "code",
   "execution_count": 14,
   "id": "6cc6a7c8",
   "metadata": {},
   "outputs": [
    {
     "name": "stderr",
     "output_type": "stream",
     "text": [
      "2023-07-08 18:56:03,676 - mylogger - INFO - My Logger has been initialized\n",
      "2023-07-08 18:56:03,676:INFO:My Logger has been initialized\n"
     ]
    }
   ],
   "source": [
    "import logging\n",
    "#Function to initialize the logger, notice that it takes 2 arguments\n",
    "#logger_name and logfile\n",
    "def setup_logger(logger_name,logfile):\n",
    "                logger = logging.getLogger(logger_name)\n",
    "                logger.setLevel(logging.INFO)\n",
    "                # create file handler which logs even debug messages\n",
    "                fh = logging.FileHandler(logfile)\n",
    "                fh.setLevel(logging.INFO)\n",
    "                # create console handler with a higher log level\n",
    "                ch = logging.StreamHandler()\n",
    "                ch.setLevel(logging.INFO)\n",
    "                # create formatter and add it to the handlers\n",
    "                formatter = logging.Formatter('%(asctime)s - %(name)s - %(levelname)s - %(message)s')\n",
    "                fh.setFormatter(formatter)\n",
    "                ch.setFormatter(formatter)\n",
    "                # add the handlers to the logger\n",
    "                logger.addHandler(fh)\n",
    "                logger.addHandler(ch)\n",
    "                return logger\n",
    "#setup the logger as below with mylogger being the name of the #logger and myloggerfile.log being the name of the logfile\n",
    "mylogger=setup_logger('mylogger','myloggerfile.log')\n",
    "mylogger.info(\"My Logger has been initialized\")\n",
    "##########Very important to import the module after the logger has #been created, if the module is imported before setting up the #logger the module wont log to the desired file\n",
    "import math\n",
    "#Then you can continue the rest of the code."
   ]
  },
  {
   "cell_type": "code",
   "execution_count": 15,
   "id": "9c9c1385",
   "metadata": {},
   "outputs": [
    {
     "name": "stderr",
     "output_type": "stream",
     "text": [
      "2023-07-08 18:56:09,653 - mylogger.module - INFO - Logger has been initialised in the host module\n",
      "2023-07-08 18:56:09,653:INFO:Logger has been initialised in the host module\n"
     ]
    }
   ],
   "source": [
    "import logging\n",
    "hostlogger = logging.getLogger('mylogger.module')\n",
    "hostlogger.info(\"Logger has been initialised in the host module\")"
   ]
  },
  {
   "cell_type": "markdown",
   "id": "2a2776bd",
   "metadata": {},
   "source": [
    "#Notice the name of the logger object, the message with the tag program started is coming from you main application and the message Done is coming from the module"
   ]
  },
  {
   "cell_type": "markdown",
   "id": "6e0da169",
   "metadata": {},
   "source": [
    "### What is the difference between the logging and print statements in Python? When should you use logging over print statements in a real-world application?"
   ]
  },
  {
   "cell_type": "markdown",
   "id": "3b54b8a8",
   "metadata": {},
   "source": [
    "Print statement is a built in function in python that prints the specified values and is mainly used for debugging. Logging in python is mainly used for keeping record of events mainly during the execution of program. Also, it displays important messages and warnings for the user maintaining best practice for production code. The logging module provides features such as log levels and filtering."
   ]
  },
  {
   "cell_type": "markdown",
   "id": "582e803e",
   "metadata": {},
   "source": [
    "### 10. Write a Python program that logs a message to a file named \"app.log\" with the\n",
    "following requirements:\n",
    "● The log message should be \"Hello, World!\"\n",
    "● The log level should be set to \"INFO.\"\n",
    "● The log file should append new log entries without overwriting previous ones."
   ]
  },
  {
   "cell_type": "code",
   "execution_count": 5,
   "id": "8708c9b7",
   "metadata": {},
   "outputs": [
    {
     "name": "stderr",
     "output_type": "stream",
     "text": [
      "2023-07-08 16:59:06,189:INFO:Hello World\n"
     ]
    }
   ],
   "source": [
    "import logging\n",
    "logging.basicConfig(level=logging.INFO, format='%(asctime)s:%(levelname)s:%(message)s', filemode='a')\n",
    "logging.info('Hello World')"
   ]
  },
  {
   "cell_type": "markdown",
   "id": "4440573e",
   "metadata": {},
   "source": [
    "### Create a Python program that logs an error message to the console and a file named \"errors.log\" if an exception occurs during the program's execution. The error message should include the exception type and a timestamp."
   ]
  },
  {
   "cell_type": "code",
   "execution_count": 18,
   "id": "2fad9959",
   "metadata": {},
   "outputs": [
    {
     "name": "stderr",
     "output_type": "stream",
     "text": [
      "2023-07-08 19:18:19,837:ERROR:error\n",
      "Traceback (most recent call last):\n",
      "  File \"C:\\Users\\S. LONDEY\\AppData\\Local\\Temp\\ipykernel_7612\\3753121001.py\", line 8, in <module>\n",
      "    newInput=userInput+3\n",
      "TypeError: can only concatenate str (not \"int\") to str\n"
     ]
    }
   ],
   "source": [
    "import logging\n",
    "\n",
    "logging.basicConfig(level=logging.INFO, filename='errors.log', filemode='a', format='%(asctimre)s : %(levelname)s', datefmt='%m-%d-%y %h-%m-%s')\n",
    "logger = logging.getLogger('testloggers')\n",
    "\n",
    "try:\n",
    "    userInput='test'\n",
    "    newInput=userInput+3\n",
    "    print(newInput)\n",
    "    \n",
    "except:\n",
    "    logging.exception('error',exc_info=True)"
   ]
  },
  {
   "cell_type": "code",
   "execution_count": null,
   "id": "183587cb",
   "metadata": {},
   "outputs": [],
   "source": []
  }
 ],
 "metadata": {
  "kernelspec": {
   "display_name": "Python 3 (ipykernel)",
   "language": "python",
   "name": "python3"
  },
  "language_info": {
   "codemirror_mode": {
    "name": "ipython",
    "version": 3
   },
   "file_extension": ".py",
   "mimetype": "text/x-python",
   "name": "python",
   "nbconvert_exporter": "python",
   "pygments_lexer": "ipython3",
   "version": "3.10.9"
  }
 },
 "nbformat": 4,
 "nbformat_minor": 5
}
