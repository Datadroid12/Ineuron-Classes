{
 "cells": [
  {
   "cell_type": "markdown",
   "id": "9ab8e9d1",
   "metadata": {},
   "source": [
    "### 01. Explain what inheritance is in object-oriented programming and why it is used."
   ]
  },
  {
   "cell_type": "markdown",
   "id": "ce8db3aa",
   "metadata": {},
   "source": [
    "In OOPS the inheritance is a mechanism that allows the user to inherit or adopt the properties from the other class. It helps to minimize the duplication of code and makes it easier to maintain and update code."
   ]
  },
  {
   "cell_type": "markdown",
   "id": "bbe95575",
   "metadata": {},
   "source": [
    "### 02. Discuss the concept of single inheritance and multiple inheritance, highlighting their differences and advantages?"
   ]
  },
  {
   "cell_type": "markdown",
   "id": "059e2da9",
   "metadata": {},
   "source": [
    "### Single Inheritance\n",
    "single inheritance is aderived from a parent class that enables it to inherit the parents of a single parent class thus enabling re-usability of code and adding new features to existing code. \n",
    "\n",
    "#Advantages: Requires small amount of run time overhead.\n",
    "\n",
    "#Disadvantages: The derive class object will retrieve only the member function defined inside the derived class.\n",
    "derived class will have the access to a feature of asingle base class.\n",
    "\n",
    "### Multiple Inheritance\n",
    "Multiple inheritance is when a new class is derived from one or more than one base classes it is termed as inheritance.\n",
    "\n",
    "#Advantages: The derived class has the access to feature of more than two or more base class.\n",
    "\n",
    "#Disadvantages: The derived class object will retrieve the member function from both the classes.It takes time process and the overhead time is lot more.\n"
   ]
  },
  {
   "cell_type": "markdown",
   "id": "e6d999a4",
   "metadata": {},
   "source": [
    "### 03.  Explain the terms \"base class\" and \"derived class\" in the context of inheritance."
   ]
  },
  {
   "cell_type": "markdown",
   "id": "631f4364",
   "metadata": {},
   "source": [
    "### Base Class\n",
    "Base class is the parent class from which derived class is being inherited to create a parent class the syntax is same as a class. \n",
    "### Derived Class\n",
    "Derived class is the class that inherits the functionality from another class. It also crries the same properties and methods as the same parent class."
   ]
  },
  {
   "cell_type": "markdown",
   "id": "4b83bbf3",
   "metadata": {},
   "source": [
    "### 04. What is the significance of the \"protected\" access modifier in inheritance? How does it differ from \"private\" and \"public\" modifiers?"
   ]
  },
  {
   "cell_type": "markdown",
   "id": "76f7a7ba",
   "metadata": {},
   "source": [
    "A member class declared as protected is only accessible within its own class as well as class derived from it but it is not accessible from another class. In contrast the member declared as private is only accessible within its own class and is not only accessible by any other class. A member declared as public on other hand is accessible from anywhere including outside of any class or package."
   ]
  },
  {
   "cell_type": "markdown",
   "id": "91b1051e",
   "metadata": {},
   "source": [
    "### 05. What is the purpose of the \"super\" keyword in inheritance? Provide an example?"
   ]
  },
  {
   "cell_type": "markdown",
   "id": "eced72dd",
   "metadata": {},
   "source": [
    "Super builtin returns a roxy or temprory object of the superclass that allows us to access methods of the base class.\n",
    "In python Super() has two major use cases:\n",
    "    Allows us to avoid using the base class name explicitly.\n",
    "    Working with multiple inheritance"
   ]
  },
  {
   "cell_type": "code",
   "execution_count": 1,
   "id": "cd225d60",
   "metadata": {},
   "outputs": [
    {
     "name": "stdout",
     "output_type": "stream",
     "text": [
      "Cat has four legs\n",
      "Cat is a warm blooded mammal.\n"
     ]
    }
   ],
   "source": [
    "class Mammal(object):\n",
    "    def __init__(self, mammal_name):\n",
    "        print(mammal_name, 'is a warm blooded mammal.')\n",
    "class Cat(Mammal):\n",
    "    def __init__(self):\n",
    "        print('Cat has four legs')\n",
    "        super().__init__('Cat')\n",
    "A1=Cat()\n",
    "    "
   ]
  },
  {
   "cell_type": "markdown",
   "id": "69929269",
   "metadata": {},
   "source": [
    "### 06. Create a base class called \"Vehicle\" with attributes like \"make\", \"model\", and \"year\". Then, create a derived class called \"Car\" that inherits from \"Vehicle\" and adds an attribute called \"fuel_type\". Implement appropriate methods in both classes.\n"
   ]
  },
  {
   "cell_type": "code",
   "execution_count": 9,
   "id": "f721c25b",
   "metadata": {},
   "outputs": [
    {
     "data": {
      "text/plain": [
       "'Make: Mercedes, Model: G-Wagon, Year: 2023, Fuel Type: Diesel'"
      ]
     },
     "execution_count": 9,
     "metadata": {},
     "output_type": "execute_result"
    }
   ],
   "source": [
    "class Vehicle:\n",
    "    def __init__(self, make, model, year):\n",
    "        self.make = make\n",
    "        self.model = model\n",
    "        self.year = year\n",
    "\n",
    "    def get_details(self):\n",
    "        return f\"Make: {self.make}, Model: {self.model}, Year: {self.year}\"\n",
    "\n",
    "class Car(Vehicle):\n",
    "    def __init__(self, make, model, year, fuel_type):\n",
    "        super().__init__(make, model, year)\n",
    "        self.fuel_type = fuel_type\n",
    "\n",
    "    def get_details(self):\n",
    "        return f\"{super().get_details()}, Fuel Type: {self.fuel_type}\"\n",
    "    \n",
    "Vehicle1=Car('Mercedes','G-Wagon','2023','Diesel')\n",
    "Vehicle1.get_details()"
   ]
  },
  {
   "cell_type": "markdown",
   "id": "039edec8",
   "metadata": {},
   "source": [
    "### 07. Create a base class called \"Employee\" with attributes like \"name\" and \"salary.\" Derive two classes, \"Manager\" and \"Developer,\" from \"Employee.\" Add an additional attribute called \"department\" for the \"Manager\" class and \"programming_language\" for the \"Developer\" class."
   ]
  },
  {
   "cell_type": "code",
   "execution_count": 1,
   "id": "0a772cf2",
   "metadata": {},
   "outputs": [
    {
     "data": {
      "text/plain": [
       "'name:Richard, salary:45000, department: Development'"
      ]
     },
     "execution_count": 1,
     "metadata": {},
     "output_type": "execute_result"
    }
   ],
   "source": [
    "class Employee:\n",
    "    def __init__(self, name, salary):\n",
    "        self.name=name\n",
    "        self.salary=salary\n",
    "        \n",
    "    def Emp_details(self):\n",
    "        return f\"name:{self.name}, salary:{self.salary}\"\n",
    "    \n",
    "class Manager(Employee):\n",
    "    def __init__(self, name, salary, department):\n",
    "        super().__init__(name, salary)\n",
    "        self.department=department\n",
    "    def Emp_details(self):\n",
    "        return f\"{super().Emp_details()}, department: {self.department}\"\n",
    "    \n",
    "class Developer(Employee):\n",
    "    def __init__(self, name, salary, programming_language):\n",
    "        super().__init__(name, salary)\n",
    "        self.programming_language=programming_language\n",
    "    def Emp_details(self):\n",
    "        return f\"{super().Emp_details()}, department: {self.programming_language}\"\n",
    "    \n",
    "\n",
    "Employee1=Developer('Richard',45000,'Development')\n",
    "Employee1.Emp_details()\n",
    "    "
   ]
  },
  {
   "cell_type": "code",
   "execution_count": 2,
   "id": "feb13ba4",
   "metadata": {},
   "outputs": [
    {
     "data": {
      "text/plain": [
       "'name:Charles, salary:45000, department: R&D'"
      ]
     },
     "execution_count": 2,
     "metadata": {},
     "output_type": "execute_result"
    }
   ],
   "source": [
    "Employee2=Manager('Charles',45000,'R&D')\n",
    "Employee2.Emp_details()"
   ]
  },
  {
   "cell_type": "markdown",
   "id": "3347afc6",
   "metadata": {},
   "source": [
    "### 08. Design a base class called \"Shape\" with attributes like \"colour\" and \"border_width.\" Create derived classes, \"Rectangle\" and \"Circle,\" that inherit from \"Shape\" and add specific attributes like \"length\" and \"width\" for the \"Rectangle\" class and \"radius\" for the \"Circle\" class."
   ]
  },
  {
   "cell_type": "code",
   "execution_count": 5,
   "id": "1a1000e6",
   "metadata": {},
   "outputs": [
    {
     "data": {
      "text/plain": [
       "'colour:Green,border:Thick, length: 20, width:40'"
      ]
     },
     "execution_count": 5,
     "metadata": {},
     "output_type": "execute_result"
    }
   ],
   "source": [
    "class Shape:\n",
    "    def __init__(self, colour,border):\n",
    "        self.colour=colour\n",
    "        self.border=border\n",
    "        \n",
    "    def Calculate(self):\n",
    "        return f\"colour:{self.colour},border:{self.border}\"\n",
    "    \n",
    "class Rectangle(Shape):\n",
    "    def __init__(self, colour, border, length, width):\n",
    "        super().__init__(colour, border)\n",
    "        self.length=length\n",
    "        self.width=width\n",
    "    def Calculate(self):\n",
    "        return f\"{super().Calculate()}, length: {self.length}, width:{self.width}\"\n",
    "    \n",
    "class Circle(Shape):\n",
    "    def __init__(self, colour, border, radius):\n",
    "        super().__init__(colour, border)\n",
    "        self.radius=radius\n",
    "    def Calculate(self):\n",
    "        return f\"{super().Calculate()}, radius: {self.radius}\"\n",
    "    \n",
    "\n",
    "Rectangle1=Rectangle('Green','Thick',20,40)\n",
    "Rectangle1.Calculate()"
   ]
  },
  {
   "cell_type": "code",
   "execution_count": 6,
   "id": "cc8b5c8a",
   "metadata": {},
   "outputs": [
    {
     "data": {
      "text/plain": [
       "'colour:blue,border:thin, radius: 25'"
      ]
     },
     "execution_count": 6,
     "metadata": {},
     "output_type": "execute_result"
    }
   ],
   "source": [
    "Circle1=Circle('blue','thin',25)\n",
    "Circle1.Calculate()"
   ]
  },
  {
   "cell_type": "markdown",
   "id": "9a985cd3",
   "metadata": {},
   "source": [
    "### 09. Create a base class called \"Device\" with attributes like \"brand\" and \"model.\" Derive two classes, \"Phone\" and \"Tablet,\" from \"Device.\" Add specific attributes like \"screen_size\" for the \"Phone\" class and \"battery_capacity\" for the \"Tablet\" class."
   ]
  },
  {
   "cell_type": "code",
   "execution_count": 19,
   "id": "37c01ed4",
   "metadata": {},
   "outputs": [
    {
     "data": {
      "text/plain": [
       "'brand:Samsung, model:S24, screen_size: 14'"
      ]
     },
     "execution_count": 19,
     "metadata": {},
     "output_type": "execute_result"
    }
   ],
   "source": [
    "class Device:\n",
    "    def __init__(self, brand, model):\n",
    "        self.brand=brand\n",
    "        self.model=model\n",
    "        \n",
    "    def Device_details(self):\n",
    "        return f\"brand:{self.brand}, model:{self.model}\"\n",
    "    \n",
    "class Phone(Device):\n",
    "    def __init__(self, brand, model, screen_size):\n",
    "        super().__init__(brand, model)\n",
    "        self.screen_size=screen_size\n",
    "    def Device_details(self):\n",
    "        return f\"{super().Device_details()}, screen_size: {self.screen_size}\"\n",
    "    \n",
    "class Tablet(Device):\n",
    "    def __init__(self, brand, model, battery_capacity):\n",
    "        super().__init__(brand, model)\n",
    "        self.battery_capacity=battery_capacity\n",
    "    def Device_details(self):\n",
    "        return f\"{super().Device_details()}, battery_capacity: {self.battery_capacity}\"\n",
    "    \n",
    "\n",
    "Phone1=Phone('Samsung','S24', 14)\n",
    "Phone1.Device_details()"
   ]
  },
  {
   "cell_type": "code",
   "execution_count": 20,
   "id": "2630659a",
   "metadata": {},
   "outputs": [
    {
     "data": {
      "text/plain": [
       "'brand:Samsung, model:Galaxy tab, battery_capacity: 4600'"
      ]
     },
     "execution_count": 20,
     "metadata": {},
     "output_type": "execute_result"
    }
   ],
   "source": [
    "Tablet1=Tablet('Samsung', 'Galaxy tab', 4600)\n",
    "Tablet1.Device_details()"
   ]
  },
  {
   "cell_type": "markdown",
   "id": "52e5f807",
   "metadata": {},
   "source": [
    "### 10. Create a base class called \"BankAccount\" with attributes like \"account_number\" and \"balance.\" Derive two classes, \"SavingsAccount\" and \"CheckingAccount,\" from \"BankAccount.\" Add specific methods like \"calculate_interest\" for the \"SavingsAccount\" class and \"deduct_fees\" for the \"CheckingAccount\" class.\n"
   ]
  },
  {
   "cell_type": "code",
   "execution_count": 37,
   "id": "2a3ba5be",
   "metadata": {},
   "outputs": [
    {
     "data": {
      "text/plain": [
       "'account_number:12145, balance:1400, interest_rate:9, calculate_interest: 12600'"
      ]
     },
     "execution_count": 37,
     "metadata": {},
     "output_type": "execute_result"
    }
   ],
   "source": [
    "class BankAccount:\n",
    "    def __init__(self, account_number, balance):\n",
    "        self.account_number=account_number\n",
    "        self.balance=balance\n",
    "        \n",
    "    def acc_details(self):\n",
    "        return f\"account_number:{self.account_number}, balance:{self.balance}\"\n",
    "    \n",
    "class SavingsAccount(BankAccount):\n",
    "    def __init__(self, account_number, balance, interest_rate):\n",
    "        super().__init__(account_number, balance)\n",
    "        self.interest_rate=interest_rate\n",
    "    def calculate_interest(self):\n",
    "        self.calculate_interest=self.balance*self.interest_rate\n",
    "    def acc_details(self):\n",
    "        return f\"{super().acc_details()}, interest_rate:{self.interest_rate}, calculate_interest: {self.calculate_interest}\"\n",
    "    \n",
    "class CheckingAccount(BankAccount):\n",
    "    def __init__(self, account_number, balance, deduct_fees):\n",
    "        super().__init__(account_number, balance)\n",
    "        self.deduct_fees=deduct_fees\n",
    "        \n",
    "    def new_bal(self):\n",
    "        self.new_bal=self.balance-self.deduct_fees\n",
    "    def acc_details(self):\n",
    "        return f\"{super().acc_details()}, deduct_fees: {self.deduct_fees}, new_bal={self.new_bal}\"\n",
    "    \n",
    "\n",
    "SavingsAccount1=SavingsAccount(12145, 1400, 9)\n",
    "SavingsAccount1.calculate_interest()\n",
    "SavingsAccount1.acc_details()"
   ]
  },
  {
   "cell_type": "code",
   "execution_count": 39,
   "id": "148b4a61",
   "metadata": {},
   "outputs": [
    {
     "data": {
      "text/plain": [
       "'account_number:12145, balance:1400, deduct_fees: 15, new_bal=1385'"
      ]
     },
     "execution_count": 39,
     "metadata": {},
     "output_type": "execute_result"
    }
   ],
   "source": [
    "CheckingAccount1=CheckingAccount(12145, 1400, 15)\n",
    "CheckingAccount1.new_bal()\n",
    "CheckingAccount1.acc_details()"
   ]
  },
  {
   "cell_type": "code",
   "execution_count": null,
   "id": "e5e98af3",
   "metadata": {},
   "outputs": [],
   "source": []
  }
 ],
 "metadata": {
  "kernelspec": {
   "display_name": "Python 3 (ipykernel)",
   "language": "python",
   "name": "python3"
  },
  "language_info": {
   "codemirror_mode": {
    "name": "ipython",
    "version": 3
   },
   "file_extension": ".py",
   "mimetype": "text/x-python",
   "name": "python",
   "nbconvert_exporter": "python",
   "pygments_lexer": "ipython3",
   "version": "3.10.9"
  }
 },
 "nbformat": 4,
 "nbformat_minor": 5
}
