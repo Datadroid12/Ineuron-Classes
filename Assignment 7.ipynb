{
 "cells": [
  {
   "cell_type": "markdown",
   "id": "62c00f9a",
   "metadata": {},
   "source": [
    "#### Q.1. Create two int type variables, apply addition, subtraction, division and multiplications and store the results in variables. Then print the data in the following format by calling the variables:"
   ]
  },
  {
   "cell_type": "code",
   "execution_count": 4,
   "id": "5e05281b",
   "metadata": {},
   "outputs": [
    {
     "name": "stdout",
     "output_type": "stream",
     "text": [
      "Please enter the first number:4\n",
      "Please enter the second number:3\n",
      "First variable is 4 & second variable is 3\n",
      "Addition: 4 + 3 = 7\n",
      "Subtraction: 4 - 3 = 1\n",
      "Multiplication: 4 * 3 = 12\n",
      "Division: 4 / 3 = 1.3333333333333333\n"
     ]
    }
   ],
   "source": [
    "X=int(input('Please enter the first number:'))\n",
    "Y=int(input('Please enter the second number:'))\n",
    "add=X+Y\n",
    "Sub=X-Y\n",
    "Div=X/Y\n",
    "Mul=X*Y\n",
    "print('First variable is',X,'& second variable is',Y)\n",
    "print('Addition:',X,'+',Y,'=',add)\n",
    "print('Subtraction:',X,'-',Y,'=',Sub)\n",
    "print('Multiplication:',X,'*',Y,'=',Mul)\n",
    "print('Division:',X,'/',Y,'=',Div)"
   ]
  },
  {
   "cell_type": "markdown",
   "id": "e2c784de",
   "metadata": {},
   "source": [
    "#### Q.2. What is the difference between the following operators: (i) ‘/’ & ‘//’ (ii) ‘**’ & ‘^’"
   ]
  },
  {
   "cell_type": "markdown",
   "id": "d1ee506a",
   "metadata": {},
   "source": [
    "####  '/' is the division operator '//' is floor division operator '**' is exponential operator and '^' is xor operator."
   ]
  },
  {
   "cell_type": "markdown",
   "id": "f0edcea6",
   "metadata": {},
   "source": [
    "#### Q.3. List the logical operators."
   ]
  },
  {
   "cell_type": "markdown",
   "id": "70456822",
   "metadata": {},
   "source": [
    "#### '''There are three logical operators in python (And) returns True if both statements are true, (OR) returns True if atleast one statement is True, and (Not) returns false if statement is true (reverse result)'''\n"
   ]
  },
  {
   "cell_type": "markdown",
   "id": "a186318a",
   "metadata": {},
   "source": [
    "#### Q.4. Explain right shift operator and left shift operator with examples."
   ]
  },
  {
   "cell_type": "code",
   "execution_count": 11,
   "id": "73cc3a90",
   "metadata": {},
   "outputs": [
    {
     "data": {
      "text/plain": [
       "1"
      ]
     },
     "execution_count": 11,
     "metadata": {},
     "output_type": "execute_result"
    }
   ],
   "source": [
    "#### Bitwise Rightshift Operator it moves value of left operand  towards right by number of bits specifies by right operand\n",
    "#### 4 binary value is 100 on shifting 2 right is 001.\n",
    "X>>2"
   ]
  },
  {
   "cell_type": "code",
   "execution_count": 12,
   "id": "17090595",
   "metadata": {},
   "outputs": [
    {
     "data": {
      "text/plain": [
       "16"
      ]
     },
     "execution_count": 12,
     "metadata": {},
     "output_type": "execute_result"
    }
   ],
   "source": [
    "#### Bitwise Left Shift Operator it moves value of left operand towards left by number of bits specifies by right operand\n",
    "#### 4 binary value is 100 on shifting 2 left is 10000.\n",
    "X<<2"
   ]
  },
  {
   "cell_type": "markdown",
   "id": "46c35b95",
   "metadata": {},
   "source": [
    "#### Q.5. Create a list containing int type data of length 15. Then write a code to check if 10 is present in the list or not."
   ]
  },
  {
   "cell_type": "code",
   "execution_count": 15,
   "id": "b2d71a52",
   "metadata": {},
   "outputs": [
    {
     "name": "stdout",
     "output_type": "stream",
     "text": [
      "exist\n"
     ]
    }
   ],
   "source": [
    "List=[1,2,3,4,5,6,7,8,9,10,11,12,13,14,15]\n",
    "len(List)\n",
    "for i in List:\n",
    "    if i==10:\n",
    "        print('exist')\n",
    "    else:\n",
    "        None"
   ]
  },
  {
   "cell_type": "code",
   "execution_count": null,
   "id": "4d56d250",
   "metadata": {},
   "outputs": [],
   "source": []
  }
 ],
 "metadata": {
  "kernelspec": {
   "display_name": "Python 3 (ipykernel)",
   "language": "python",
   "name": "python3"
  },
  "language_info": {
   "codemirror_mode": {
    "name": "ipython",
    "version": 3
   },
   "file_extension": ".py",
   "mimetype": "text/x-python",
   "name": "python",
   "nbconvert_exporter": "python",
   "pygments_lexer": "ipython3",
   "version": "3.10.9"
  }
 },
 "nbformat": 4,
 "nbformat_minor": 5
}
