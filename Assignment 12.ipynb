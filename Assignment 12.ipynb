{
 "cells": [
  {
   "cell_type": "markdown",
   "id": "b86f2e61",
   "metadata": {},
   "source": [
    "### 1. What is the primary goal of Object-Oriented Programming (OOP)?"
   ]
  },
  {
   "cell_type": "markdown",
   "id": "0b8f9174",
   "metadata": {},
   "source": [
    "The Primary goal of the object oriented programming is to implement robustness, adaptability, and reusability in the code.\n",
    "Robustness: During the code writting it is required that written code should work correctly and can handle any type of error.\n",
    "\n",
    "Adaptability: The code written can adapt to the changes with the changing user's usability thus oops helps to adapt with the changes.\n",
    "\n",
    "Reusability: The oops helps to apply the DRY concept (Do Not Repeat Yourself) as repeatatively writting same code to solve same problem decreases productivity. Thus, OOPs enhances the reusability of code to maximize productivity."
   ]
  },
  {
   "cell_type": "markdown",
   "id": "52257bcc",
   "metadata": {},
   "source": [
    "### What is an object in Python?"
   ]
  },
  {
   "cell_type": "markdown",
   "id": "baf7f6b5",
   "metadata": {},
   "source": [
    "Objects are an instance of a class all data in python is reprsented or relaation by the objects only."
   ]
  },
  {
   "cell_type": "markdown",
   "id": "170fe4af",
   "metadata": {},
   "source": [
    "### What is a class in Python?"
   ]
  },
  {
   "cell_type": "markdown",
   "id": "129a4f6b",
   "metadata": {},
   "source": [
    "Class is a blueprint in a python program that comprises of objects. Class consist of functions and methods that bundles data and functionality together."
   ]
  },
  {
   "cell_type": "markdown",
   "id": "41dbb6b2",
   "metadata": {},
   "source": [
    "### What are attributes and methods in a class?"
   ]
  },
  {
   "cell_type": "markdown",
   "id": "b15fa91a",
   "metadata": {},
   "source": [
    "Any variable that is declared and bound inside a class is called an attribute. While methods are the functions declared inside the class which provides functionality to the code."
   ]
  },
  {
   "cell_type": "markdown",
   "id": "1c1fd7a6",
   "metadata": {},
   "source": [
    "### What is the difference between class variables and instance variables in Python?"
   ]
  },
  {
   "cell_type": "markdown",
   "id": "ad826add",
   "metadata": {},
   "source": [
    "Class Variable: Class variable are declared inside a class but outside any of the instance methods. They are not bound to any particular object of the class and can be shared across all the objects of the class. Also, modifying a class variable can affect all the objects inside it.\n",
    "\n",
    "Instance: Instance variable are declare inside the constructor __init__ of a class and are tied to particular object of a class hence they are independent."
   ]
  },
  {
   "cell_type": "markdown",
   "id": "3a08fec5",
   "metadata": {},
   "source": [
    "### What is the purpose of the self parameter in Python class methods?"
   ]
  },
  {
   "cell_type": "markdown",
   "id": "a192b4c2",
   "metadata": {},
   "source": [
    "Self is the first parameter in a instance method that refers to a particular object. It holds the address of the object that is being stored inside a function."
   ]
  },
  {
   "cell_type": "markdown",
   "id": "676bf67d",
   "metadata": {},
   "source": [
    "### '''For a library management system, you have to design the \"Book\" class with OOP principles in mind. The “Book” class will have following attributes:\n",
    "##### a. title: Represents the title of the book.\n",
    "##### b. author: Represents the author(s) of the book.\n",
    "##### c. isbn: Represents the ISBN (International Standard Book Number) of the book.\n",
    "##### d. publication_year: Represents the year of publication of the book.\n",
    "##### e. available_copies: Represents the number of copies available for checkout.\n",
    "### The class will also include the following methods:\n",
    "##### a. check_out(self): Decrements the available copies by one if there are copies available for checkout.\n",
    "##### b. return_book(self): Increments the available copies by one when a book is returned.\n",
    "##### c. display_book_info(self): Displays the information about the book, including its attributes and the number of available copies.'''"
   ]
  },
  {
   "cell_type": "code",
   "execution_count": 81,
   "id": "30c9ba39",
   "metadata": {},
   "outputs": [],
   "source": [
    "class Book:\n",
    "    \n",
    "    def __init__(self, title, author, isbn, publication_year, avaialble_copies):\n",
    "        self.title=title\n",
    "        self.author=author\n",
    "        self.isbn=isbn\n",
    "        self.pub_year=publication_year\n",
    "        self.avail_copies=avaialble_copies\n",
    "    \n",
    "    def check_out(self, bookreq):\n",
    "        if bookreq==self.title:\n",
    "            print(f\"the book {self.title} is available to check out.\")\n",
    "            self.avail_copies=self.avail_copies-1\n",
    "        else:\n",
    "            print(f\"the book {self.title} is not available.\")\n",
    "            \n",
    "    def return_book(self, returnbook):\n",
    "        if returnbook==self.title:\n",
    "            print(f\"the book {self.title} is returned\")\n",
    "            self.avail_copies=self.avail_copies+1\n",
    "            \n",
    "    def display_book_info(self):\n",
    "        print(f\"{self.title} by {self.author}, {self.isbn} {self.pub_year}, {self.avail_copies} copies available\")"
   ]
  },
  {
   "cell_type": "code",
   "execution_count": 82,
   "id": "06048026",
   "metadata": {},
   "outputs": [],
   "source": [
    "book1 = Book('Harry potter','J.K.Rowling','21456','1996',3)"
   ]
  },
  {
   "cell_type": "code",
   "execution_count": 83,
   "id": "be5432bc",
   "metadata": {},
   "outputs": [
    {
     "name": "stdout",
     "output_type": "stream",
     "text": [
      "Harry potter by J.K.Rowling, 21456 1996, 3 copies available\n"
     ]
    }
   ],
   "source": [
    "book1.display_book_info()"
   ]
  },
  {
   "cell_type": "code",
   "execution_count": 84,
   "id": "16e1f753",
   "metadata": {},
   "outputs": [
    {
     "name": "stdout",
     "output_type": "stream",
     "text": [
      "the book Harry potter is available to check out.\n"
     ]
    }
   ],
   "source": [
    "book1.check_out('Harry potter')"
   ]
  },
  {
   "cell_type": "code",
   "execution_count": 85,
   "id": "4d780565",
   "metadata": {},
   "outputs": [
    {
     "name": "stdout",
     "output_type": "stream",
     "text": [
      "Harry potter by J.K.Rowling, 21456 1996, 2 copies available\n"
     ]
    }
   ],
   "source": [
    "book1.display_book_info()"
   ]
  },
  {
   "cell_type": "markdown",
   "id": "ec088d39",
   "metadata": {},
   "source": [
    "### For a ticket booking system, you have to design the \"Ticket\" class with OOP principles in mind. The “Ticket” class should have the following attributes:\n",
    "##### a. ticket_id: Represents the unique identifier for the ticket.\n",
    "##### b. event_name: Represents the name of the event.\n",
    "##### c. event_date: Represents the date of the event.\n",
    "##### d. venue: Represents the venue of the event.\n",
    "##### e. seat_number: Represents the seat number associated with the ticket.\n",
    "##### f. price: Represents the price of the ticket.\n",
    "##### g. is_reserved: Represents the reservation status of the ticket.\n",
    "### The class also includes the following methods:\n",
    "##### a. reserve_ticket(self): Marks the ticket as reserved if it is not already reserved.\n",
    "##### b. cancel_reservation(self): Cancels the reservation of the ticket if it is already reserved.\n",
    "##### c. display_ticket_info(self): Displays the information about the ticket, including its attributes and reservation status."
   ]
  },
  {
   "cell_type": "code",
   "execution_count": 5,
   "id": "634dbc44",
   "metadata": {},
   "outputs": [],
   "source": [
    "class Ticket:\n",
    "    def __init__(self, ticket_id, event_name, event_date, venue, seat_number, price, is_reserved):\n",
    "        self.ticket_id = ticket_id\n",
    "        self.event_name=event_name\n",
    "        self.event_date=event_date\n",
    "        self.venue=venue\n",
    "        self.seat_number=seat_number\n",
    "        self.price=price\n",
    "        self.is_reserved=False\n",
    "        \n",
    "    def reserve_ticket(self):\n",
    "        if not self.is_reserved:\n",
    "            self.is_reserved=True\n",
    "            print('Ticket is reserved successfully!')\n",
    "        else:\n",
    "            print('Ticket is already reserved!')\n",
    "            \n",
    "    def cancel_reservation(self):\n",
    "        if self.is_reserved:\n",
    "            self.is_reserved=False\n",
    "            print('Reservation is cancelled successfully!')\n",
    "        else:\n",
    "            print('your Ticket is not reserved.')\n",
    "            \n",
    "    def display_ticket_info(self):\n",
    "        print(f\"Ticket ID: {self.ticket_id}\")\n",
    "        print(f\"Event Name: {self.event_name}\")\n",
    "        print(f\"Event Date: {self.event_date}\")\n",
    "        print(f\"Venue: {self.venue}\")\n",
    "        print(f\"Seat Number: {self.seat_number}\")\n",
    "        print(f\"Price: {self.price}\")\n",
    "        print(f\"Reservation Status: {'Reserved' if self.is_reserved else 'Not Reserved'}\")"
   ]
  },
  {
   "cell_type": "code",
   "execution_count": 6,
   "id": "40fc026d",
   "metadata": {},
   "outputs": [],
   "source": [
    "Ticket1 = Ticket(41527, 'Sunfest','12-01-2023','pune','14','1400',True)\n",
    "Ticket2 = Ticket(41578,'Sunfest','12-01-2023','pune','16','1600',False)"
   ]
  },
  {
   "cell_type": "code",
   "execution_count": 7,
   "id": "87bb0122",
   "metadata": {},
   "outputs": [
    {
     "name": "stdout",
     "output_type": "stream",
     "text": [
      "Ticket is reserved successfully!\n"
     ]
    }
   ],
   "source": [
    "Ticket1.reserve_ticket()"
   ]
  },
  {
   "cell_type": "code",
   "execution_count": 8,
   "id": "eebeebb1",
   "metadata": {},
   "outputs": [
    {
     "name": "stdout",
     "output_type": "stream",
     "text": [
      "your Ticket is not reserved.\n"
     ]
    }
   ],
   "source": [
    "Ticket2.cancel_reservation()"
   ]
  },
  {
   "cell_type": "markdown",
   "id": "4c12281c",
   "metadata": {},
   "source": [
    "### You are creating a shopping cart for an e-commerce website. Using OOP to model the \"ShoppingCart\" functionality the class should contain following attributes and methods:\n",
    "##### a. items: Represents the list of items in the shopping cart.\n",
    "### The class also includes the following methods:\n",
    "\n",
    "##### a. add_item(self, item): Adds an item to the shopping cart by appending it to the list of items.\n",
    "##### b. remove_item(self, item): Removes an item from the shopping cart if it exists in the list.\n",
    "##### c. view_cart(self): Displays the items currently present in the shopping cart.\n",
    "##### d. clear_cart(self): Clears all items from the shopping cart by reassigning an empty list to the items attribute."
   ]
  },
  {
   "cell_type": "code",
   "execution_count": 7,
   "id": "dd05fd55",
   "metadata": {},
   "outputs": [],
   "source": [
    "class ShoppingCart:\n",
    "    def __init__(self):\n",
    "        self.items=[]\n",
    "        \n",
    "    def add_items(self, item):\n",
    "        self.items.append(item)\n",
    "        \n",
    "    def remove_items(self, items):\n",
    "        if item in self.items:\n",
    "            self.items.remove(item)\n",
    "            \n",
    "    def view_cart(self):\n",
    "        if len(self.items)==0:\n",
    "            print('your shopping cart is empty')\n",
    "        else:\n",
    "            for item in self.items:\n",
    "                print(item)\n",
    "    \n",
    "    def clear_cart(self):\n",
    "        self.items=[]"
   ]
  },
  {
   "cell_type": "code",
   "execution_count": 8,
   "id": "f81637b1",
   "metadata": {},
   "outputs": [],
   "source": [
    "shoppingcart1= ShoppingCart()"
   ]
  },
  {
   "cell_type": "code",
   "execution_count": 9,
   "id": "0c96ec57",
   "metadata": {},
   "outputs": [],
   "source": [
    "shoppingcart1.add_items('apple')"
   ]
  },
  {
   "cell_type": "code",
   "execution_count": 10,
   "id": "d1b1d2b1",
   "metadata": {},
   "outputs": [],
   "source": [
    "shoppingcart1.add_items('orange')"
   ]
  },
  {
   "cell_type": "code",
   "execution_count": 11,
   "id": "ebdfaec1",
   "metadata": {},
   "outputs": [
    {
     "name": "stdout",
     "output_type": "stream",
     "text": [
      "apple\n",
      "orange\n"
     ]
    }
   ],
   "source": [
    "shoppingcart1.view_cart()"
   ]
  },
  {
   "cell_type": "code",
   "execution_count": 12,
   "id": "d2d01a2d",
   "metadata": {},
   "outputs": [],
   "source": [
    "shoppingcart1.clear_cart()"
   ]
  },
  {
   "cell_type": "code",
   "execution_count": 13,
   "id": "e8165b24",
   "metadata": {},
   "outputs": [
    {
     "name": "stdout",
     "output_type": "stream",
     "text": [
      "your shopping cart is empty\n"
     ]
    }
   ],
   "source": [
    "shoppingcart1.view_cart()"
   ]
  },
  {
   "cell_type": "markdown",
   "id": "0ada4d83",
   "metadata": {},
   "source": [
    "### Imagine a school management system. You have to design the \"Student\" class using OOP concepts.The “Student” class has the following attributes:\n",
    "##### a. name: Represents the name of the student.\n",
    "##### b. age: Represents the age of the student.\n",
    "##### c. grade: Represents the grade or class of the student.\n",
    "##### d. student_id: Represents the unique identifier for the student.\n",
    "##### e. attendance: Represents the attendance record of the student.\n",
    "### The class should also include the following methods:\n",
    "##### a. update_attendance(self, date, status): Updates the attendance record of the student for a given date with the provided status (e.g., present or absent).\n",
    "##### b. get_attendance(self): Returns the attendance record of the student.\n",
    "##### c. get_average_attendance(self): Calculates and returns the average attendance percentage of the student based on their attendance record."
   ]
  },
  {
   "cell_type": "code",
   "execution_count": 31,
   "id": "9ff4c988",
   "metadata": {},
   "outputs": [],
   "source": [
    "class Student:\n",
    "    def __init__(self, name, age, grade, student_id):\n",
    "        self.name = name\n",
    "        self.age = age\n",
    "        self.grade = grade\n",
    "        self.student_id = student_id\n",
    "        self.attendance = {}\n",
    "\n",
    "    def update_attendance(self, date, status):\n",
    "        self.attendance[date] = status\n",
    "\n",
    "    def get_attendance(self):\n",
    "        return self.attendance\n",
    "\n",
    "    def get_average_attendance(self):\n",
    "        total_days = len(self.attendance)\n",
    "        present_days = list(self.attendance.values()).count(\"present\")\n",
    "        return (present_days / total_days) * 100 if total_days > 0 else 0"
   ]
  },
  {
   "cell_type": "code",
   "execution_count": 32,
   "id": "edcbb328",
   "metadata": {},
   "outputs": [],
   "source": [
    "student1=Student('Rahul', 15, 'X', 121)\n",
    "student2=Student('Sameer', 16, 'X', 125)"
   ]
  },
  {
   "cell_type": "code",
   "execution_count": 33,
   "id": "7ed07692",
   "metadata": {},
   "outputs": [],
   "source": [
    "student1.update_attendance('18/7/2021', 'Present')\n",
    "student2.update_attendance('19/7/2021', 'absent')\n",
    "student1.update_attendance('20/7/2021', 'Present')\n",
    "student2.update_attendance('20/7/2021', 'Present')"
   ]
  },
  {
   "cell_type": "code",
   "execution_count": 34,
   "id": "f73272f6",
   "metadata": {},
   "outputs": [
    {
     "data": {
      "text/plain": [
       "{'18/7/2021': 'Present', '20/7/2021': 'Present'}"
      ]
     },
     "execution_count": 34,
     "metadata": {},
     "output_type": "execute_result"
    }
   ],
   "source": [
    "student1.get_attendance()"
   ]
  },
  {
   "cell_type": "code",
   "execution_count": 26,
   "id": "7c4caa3d",
   "metadata": {},
   "outputs": [
    {
     "data": {
      "text/plain": [
       "0.0"
      ]
     },
     "execution_count": 26,
     "metadata": {},
     "output_type": "execute_result"
    }
   ],
   "source": [
    "student2.get_average_attendance()"
   ]
  },
  {
   "cell_type": "code",
   "execution_count": null,
   "id": "0ab78786",
   "metadata": {},
   "outputs": [],
   "source": []
  }
 ],
 "metadata": {
  "kernelspec": {
   "display_name": "Python 3 (ipykernel)",
   "language": "python",
   "name": "python3"
  },
  "language_info": {
   "codemirror_mode": {
    "name": "ipython",
    "version": 3
   },
   "file_extension": ".py",
   "mimetype": "text/x-python",
   "name": "python",
   "nbconvert_exporter": "python",
   "pygments_lexer": "ipython3",
   "version": "3.10.9"
  }
 },
 "nbformat": 4,
 "nbformat_minor": 5
}
