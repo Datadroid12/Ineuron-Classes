{
 "cells": [
  {
   "cell_type": "markdown",
   "id": "c8fd56d6",
   "metadata": {},
   "source": [
    "### What is the role of try and exception block?"
   ]
  },
  {
   "cell_type": "markdown",
   "id": "6a76ce0b",
   "metadata": {},
   "source": [
    "##### TRY block allows you to test your code for errors. while, except handles the error by displaying user defined message."
   ]
  },
  {
   "cell_type": "markdown",
   "id": "0a3d34aa",
   "metadata": {},
   "source": [
    "### What is the syntax for a basic try-except block?"
   ]
  },
  {
   "cell_type": "code",
   "execution_count": 1,
   "id": "13be2dd9",
   "metadata": {},
   "outputs": [
    {
     "name": "stdout",
     "output_type": "stream",
     "text": [
      "An exception occurred\n"
     ]
    }
   ],
   "source": [
    "try:\n",
    "    print(Num)\n",
    "except:\n",
    "    print(\"An exception occurred\")"
   ]
  },
  {
   "cell_type": "markdown",
   "id": "25abe382",
   "metadata": {},
   "source": [
    "### What happens if an exception occurs inside a try block and there is no matching except block?"
   ]
  },
  {
   "cell_type": "markdown",
   "id": "c20ccd55",
   "metadata": {},
   "source": [
    "##### If the exception occurs during the execution of try block and there is no matching exception handling block. then, no code will be execute further and all the clause following that will be skipped and if finally block is given the exception error will still occur."
   ]
  },
  {
   "cell_type": "markdown",
   "id": "2e5448f9",
   "metadata": {},
   "source": [
    "### What is the difference between using a bare except block and specifying a specific exception type?"
   ]
  },
  {
   "cell_type": "markdown",
   "id": "4510e7ce",
   "metadata": {},
   "source": [
    "##### Bare python is not so recommended method as this exception method tries to catch all and any exception while specifying a specific exception will ease the handling of exact exception."
   ]
  },
  {
   "cell_type": "markdown",
   "id": "ce4dba6b",
   "metadata": {},
   "source": [
    "### Can you have nested try-except blocks in Python? If yes, then give an example."
   ]
  },
  {
   "cell_type": "code",
   "execution_count": 2,
   "id": "c73dd92e",
   "metadata": {},
   "outputs": [
    {
     "name": "stdout",
     "output_type": "stream",
     "text": [
      "try Outer block\n",
      "nested try block\n",
      "outer except block\n",
      "division by zero\n"
     ]
    }
   ],
   "source": [
    "#Yes we can have nested try except block in python \n",
    "x=10\n",
    "y=0\n",
    "\n",
    "try:\n",
    "    print('try Outer block')\n",
    "    try:\n",
    "        print('nested try block')\n",
    "        print(x/y)\n",
    "    except TypeError as Te:\n",
    "        print('Inner except block')\n",
    "        print(Te)\n",
    "except ZeroDivisionError as Ze:\n",
    "    print('outer except block')\n",
    "    print(Ze)"
   ]
  },
  {
   "cell_type": "markdown",
   "id": "9611428a",
   "metadata": {},
   "source": [
    "### Can we use multiple exception blocks, if yes then give an example."
   ]
  },
  {
   "cell_type": "code",
   "execution_count": 3,
   "id": "c38b9037",
   "metadata": {},
   "outputs": [
    {
     "name": "stdout",
     "output_type": "stream",
     "text": [
      "division by zero\n"
     ]
    }
   ],
   "source": [
    "def divide(x, y):\n",
    "    try:\n",
    "        print(f'{x}/{y} is {x / y}')\n",
    "    except ZeroDivisionError as e:\n",
    "        print(e)\n",
    "    except TypeError as e:\n",
    "        print(e)\n",
    "    except ValueError as e:\n",
    "        print(e)\n",
    "        \n",
    "divide(4,0)"
   ]
  },
  {
   "cell_type": "markdown",
   "id": "b57a9ce2",
   "metadata": {},
   "source": [
    "Write the reason due to which following errors are raised:\n",
    "a. EOFError\n",
    "b. FloatingPointError\n",
    "c. IndexError\n",
    "d. MemoryError\n",
    "e. OverflowError\n",
    "f. TabError\n",
    "g. ValueError"
   ]
  },
  {
   "cell_type": "markdown",
   "id": "5b31e3c5",
   "metadata": {},
   "source": [
    "A. EOF Error\n",
    "End of File error (EOF)- the error occurs when the interpreter in the program reach end before executing all command.\n",
    "\n",
    "B. Floating Point Error\n",
    "Floating Error is raised when the execution of floating operation goes wrong and error is raised when floating point\n",
    "exception control (fpectl) is turned on.\n",
    "\n",
    "C. Index Error\n",
    "This error occurs when we pass a list of elements and call index that is not present. thus, raise the Index Error.\n",
    "\n",
    "D. Memory Error\n",
    "This error is raised in python when on execution of operation runs out of memory to display output.\n",
    "\n",
    "E. Overflow Error\n",
    "An overflow error occurs when an arithmetic operation exceeds the limits of an variable type at which is to be represented \n",
    "\n",
    "F.Tab Error:\n",
    "The error occurs when there is an inconsistent use of tabs and spaces instead of indentation in code.\n",
    "\n",
    "G. Value Error\n",
    "Value error in python occurs when user enters an invalid value to a function but of valid arguement.\n"
   ]
  },
  {
   "cell_type": "markdown",
   "id": "e18fbac2",
   "metadata": {},
   "source": [
    "### Write code for the following given scenario and add try-exception block to it.\n",
    "### a. Program to divide two numbers"
   ]
  },
  {
   "cell_type": "code",
   "execution_count": 4,
   "id": "66b772a7",
   "metadata": {},
   "outputs": [
    {
     "name": "stdout",
     "output_type": "stream",
     "text": [
      "enter first number4\n",
      "enter second number0\n",
      "Sorry ! You are dividing by zero \n"
     ]
    }
   ],
   "source": [
    "num1=int(input('enter first number'))\n",
    "num2=int(input('enter second number'))\n",
    "\n",
    "def div(num1, num2):\n",
    "    try:\n",
    "        # Floor Division : Gives only Fractional Part as Answer\n",
    "        result = num1 // num2\n",
    "        print(\"Yeah ! Your answer is :\", result)\n",
    "    except ZeroDivisionError:\n",
    "        print(\"Sorry ! You are dividing by zero \")\n",
    " \n",
    "div(num1, num2)"
   ]
  },
  {
   "cell_type": "markdown",
   "id": "d5e15c3e",
   "metadata": {},
   "source": [
    "### Program to convert a string to an integer"
   ]
  },
  {
   "cell_type": "code",
   "execution_count": 5,
   "id": "ad0e7c53",
   "metadata": {},
   "outputs": [
    {
     "name": "stdout",
     "output_type": "stream",
     "text": [
      "Enter any valuestr\n",
      "Value is incorrect\n"
     ]
    }
   ],
   "source": [
    "Str=str(input('Enter any value'))\n",
    "\n",
    "def str_to_int(Str):\n",
    "    try:\n",
    "        val=int(Str)\n",
    "        print('The integer is', val)\n",
    "        \n",
    "    except ValueError:\n",
    "        print('Value is incorrect')\n",
    "        \n",
    "str_to_int(Str)"
   ]
  },
  {
   "cell_type": "markdown",
   "id": "34f6e230",
   "metadata": {},
   "source": [
    "### Program to access an element in a list"
   ]
  },
  {
   "cell_type": "code",
   "execution_count": 14,
   "id": "d1143bcb",
   "metadata": {},
   "outputs": [
    {
     "name": "stdout",
     "output_type": "stream",
     "text": [
      "The list is: [1, 2, 3, 4, 5, 6, 7, 8, 9, 10]\n",
      "enter index number:5\n",
      "Index is: 5\n",
      "Element at index 5 is 6\n"
     ]
    }
   ],
   "source": [
    "mylist = [1, 2, 3, 4, 5, 6, 7, 8, 9, 10]\n",
    "print(\"The list is:\", mylist)\n",
    "index = int(input('enter index number:'))\n",
    "print(\"Index is:\",index)\n",
    "try:\n",
    "    element = mylist[index]\n",
    "    print(\"Element at index {} is {}\".format(index, element))\n",
    "except IndexError:\n",
    "    print(\"Index should be smaller.\")"
   ]
  },
  {
   "cell_type": "markdown",
   "id": "cf56007a",
   "metadata": {},
   "source": [
    "### Program to handle a specific exception"
   ]
  },
  {
   "cell_type": "code",
   "execution_count": 18,
   "id": "d3c2778a",
   "metadata": {},
   "outputs": [
    {
     "name": "stdout",
     "output_type": "stream",
     "text": [
      "The list is: [1, 2, 3, 4, 5, 6, 7, 8, 9, 10]\n",
      "please enter value:5\n",
      "Element at index 5 is 6\n"
     ]
    }
   ],
   "source": [
    "def elem():\n",
    "    try:\n",
    "        myList = [1, 2, 3, 4, 5, 6, 7, 8, 9, 10]\n",
    "        print(\"The list is:\", myList)\n",
    "        index = int(input('please enter value:'))\n",
    "        element=myList[index]\n",
    "        print(\"Element at index {} is {}\".format(index,element))\n",
    "        #if user enters a string or a float value a value error exception which will be handled\n",
    "    except ValueError:\n",
    "        print('there is an value error occured)')\n",
    "\n",
    "elem()"
   ]
  },
  {
   "cell_type": "markdown",
   "id": "2bb0739a",
   "metadata": {},
   "source": [
    "### Program to handle any exception"
   ]
  },
  {
   "cell_type": "code",
   "execution_count": 20,
   "id": "acee9afe",
   "metadata": {},
   "outputs": [],
   "source": [
    "#The method is not recommended though it makes complex to debug the code\n",
    "try:\n",
    "    import module\n",
    "except:  # [bare-except]\n",
    "    module = None"
   ]
  },
  {
   "cell_type": "code",
   "execution_count": null,
   "id": "d46a0b1e",
   "metadata": {},
   "outputs": [],
   "source": []
  }
 ],
 "metadata": {
  "kernelspec": {
   "display_name": "Python 3 (ipykernel)",
   "language": "python",
   "name": "python3"
  },
  "language_info": {
   "codemirror_mode": {
    "name": "ipython",
    "version": 3
   },
   "file_extension": ".py",
   "mimetype": "text/x-python",
   "name": "python",
   "nbconvert_exporter": "python",
   "pygments_lexer": "ipython3",
   "version": "3.10.9"
  }
 },
 "nbformat": 4,
 "nbformat_minor": 5
}
