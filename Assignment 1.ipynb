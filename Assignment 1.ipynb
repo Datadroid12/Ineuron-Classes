{
 "cells": [
  {
   "cell_type": "markdown",
   "id": "8ebd81ce",
   "metadata": {},
   "source": [
    "## Assignment 1"
   ]
  },
  {
   "cell_type": "markdown",
   "id": "b12c2ed1",
   "metadata": {},
   "source": [
    "####  In the below elements which of them are values or an expression? eg:- values can be integer or string and expressions will be mathematical operators."
   ]
  },
  {
   "cell_type": "code",
   "execution_count": 12,
   "id": "b0c8d2e2",
   "metadata": {},
   "outputs": [
    {
     "name": "stdout",
     "output_type": "stream",
     "text": [
      "6\n"
     ]
    }
   ],
   "source": [
    "\"\"\"* is the multiplication mathematical operator. \n",
    "     For Example\"\"\"\n",
    "a=3*2\n",
    "print(a)"
   ]
  },
  {
   "cell_type": "code",
   "execution_count": 13,
   "id": "583990f2",
   "metadata": {},
   "outputs": [
    {
     "name": "stdout",
     "output_type": "stream",
     "text": [
      "<class 'str'>\n"
     ]
    }
   ],
   "source": [
    "\"\"\"hello is a string\"\"\"\n",
    "a='hello'\n",
    "print(type(a))"
   ]
  },
  {
   "cell_type": "code",
   "execution_count": 14,
   "id": "7717af30",
   "metadata": {},
   "outputs": [
    {
     "name": "stdout",
     "output_type": "stream",
     "text": [
      "<class 'float'>\n"
     ]
    }
   ],
   "source": [
    "'-87.8 is a float with decimal value'\n",
    "a=-87.8\n",
    "print(type(a))\n"
   ]
  },
  {
   "cell_type": "code",
   "execution_count": 15,
   "id": "7067a42c",
   "metadata": {},
   "outputs": [
    {
     "name": "stdout",
     "output_type": "stream",
     "text": [
      "2\n"
     ]
    }
   ],
   "source": [
    "\"\"\"- is a mathematical substraction operator.\n",
    "    for example:\"\"\"\n",
    "a=4-2\n",
    "print(a)"
   ]
  },
  {
   "cell_type": "code",
   "execution_count": 16,
   "id": "9fefda4d",
   "metadata": {},
   "outputs": [
    {
     "name": "stdout",
     "output_type": "stream",
     "text": [
      "2.0\n"
     ]
    }
   ],
   "source": [
    "\"\"\"/ is a division mathematical operator.\n",
    "    for example\"\"\"\n",
    "a=4/2\n",
    "print(a)"
   ]
  },
  {
   "cell_type": "code",
   "execution_count": 17,
   "id": "8f4c56da",
   "metadata": {},
   "outputs": [
    {
     "name": "stdout",
     "output_type": "stream",
     "text": [
      "6\n"
     ]
    }
   ],
   "source": [
    "\"\"\"+ is a addition mathematical operator.\n",
    "    for example\"\"\"\n",
    "a=4+2\n",
    "print(a)"
   ]
  },
  {
   "cell_type": "code",
   "execution_count": 18,
   "id": "8e957db9",
   "metadata": {},
   "outputs": [
    {
     "name": "stdout",
     "output_type": "stream",
     "text": [
      "<class 'int'>\n"
     ]
    }
   ],
   "source": [
    "\"\"\"6 is a integer number\"\"\"\n",
    "print(type(6))"
   ]
  },
  {
   "cell_type": "markdown",
   "id": "d4b197a3",
   "metadata": {},
   "source": [
    "### What is the difference between string and variable?"
   ]
  },
  {
   "cell_type": "markdown",
   "id": "19ec3bdc",
   "metadata": {},
   "source": [
    "#### variable is a container that stores string, integer, or any other value assigned while string is a specific value saved under a quotes. a variable can store string but string cannot hold a variable."
   ]
  },
  {
   "cell_type": "code",
   "execution_count": 23,
   "id": "2da6c05d",
   "metadata": {},
   "outputs": [
    {
     "name": "stdout",
     "output_type": "stream",
     "text": [
      "6\n",
      "<class 'int'> it is integer data type\n",
      "['mango', 'apple', 'peach']\n",
      "<class 'list'> it is list data type which is mutable\n",
      "('one', 'three', 'five')\n",
      "<class 'tuple'> it is tuple data type which is immutable\n"
     ]
    }
   ],
   "source": [
    "\"Describe Three different Data Types?\"\n",
    "a=6\n",
    "print(a)\n",
    "print(type(a), \"it is integer data type\")\n",
    "\n",
    "List_1=['mango','apple','peach']\n",
    "print(List_1)\n",
    "print(type(List_1), \"it is list data type which is mutable\")\n",
    "\n",
    "List_2=('one','three','five')\n",
    "print(List_2)\n",
    "print(type(List_2), \"it is tuple data type which is immutable\")"
   ]
  },
  {
   "cell_type": "markdown",
   "id": "fe236f7d",
   "metadata": {},
   "source": [
    "#### This assignment statements, like spam = 10. What is the difference between an expression and a statement?"
   ]
  },
  {
   "cell_type": "code",
   "execution_count": 27,
   "id": "1c52cd0f",
   "metadata": {},
   "outputs": [
    {
     "name": "stdout",
     "output_type": "stream",
     "text": [
      "10\n"
     ]
    }
   ],
   "source": [
    "\"Expression is basically a logical statement that is executed when call for example:\"\n",
    "spam=10\n",
    "\"here spam=10 is a assignment expression that contains value as 10 when call via print function it display spam value\"\n",
    "print(spam)\n"
   ]
  },
  {
   "cell_type": "code",
   "execution_count": 28,
   "id": "e03b7135",
   "metadata": {},
   "outputs": [
    {
     "data": {
      "text/plain": [
       "'While statements are general line of sentence that is stored under quotes and never execute as a code.'"
      ]
     },
     "execution_count": 28,
     "metadata": {},
     "output_type": "execute_result"
    }
   ],
   "source": [
    "\"While statements are general line of sentence that is stored under quotes and never execute as a code.\""
   ]
  },
  {
   "cell_type": "markdown",
   "id": "365cbaf3",
   "metadata": {},
   "source": [
    "#### After running the following code, what does the variable bacon contain?\n",
    "bacon = 22\n",
    "bacon + 1"
   ]
  },
  {
   "cell_type": "code",
   "execution_count": 31,
   "id": "b6a5d088",
   "metadata": {},
   "outputs": [
    {
     "data": {
      "text/plain": [
       "(23, 'it adds one value to the bacon containing value as 22')"
      ]
     },
     "execution_count": 31,
     "metadata": {},
     "output_type": "execute_result"
    }
   ],
   "source": [
    "bacon=22\n",
    "bacon+1, \"it adds one value to the bacon containing value as 22\""
   ]
  },
  {
   "cell_type": "markdown",
   "id": "84e9617e",
   "metadata": {},
   "source": [
    "#### What should the values of the following two terms be?"
   ]
  },
  {
   "cell_type": "code",
   "execution_count": 35,
   "id": "66d6ed03",
   "metadata": {},
   "outputs": [
    {
     "data": {
      "text/plain": [
       "('spamspamspam', 'it adds both the strings as + operator is used')"
      ]
     },
     "execution_count": 35,
     "metadata": {},
     "output_type": "execute_result"
    }
   ],
   "source": [
    "'spam' + 'spamspam', \"it adds both the strings as + operator is used\""
   ]
  },
  {
   "cell_type": "code",
   "execution_count": 36,
   "id": "db0b9abd",
   "metadata": {},
   "outputs": [
    {
     "data": {
      "text/plain": [
       "('spamspamspam', 'it multiply spam thrice as * operator used')"
      ]
     },
     "execution_count": 36,
     "metadata": {},
     "output_type": "execute_result"
    }
   ],
   "source": [
    "'spam' * 3, \"it multiply spam thrice as * operator used\""
   ]
  },
  {
   "cell_type": "markdown",
   "id": "13baac1c",
   "metadata": {},
   "source": [
    "#### Why is eggs a valid variable name while 100 is invalid?"
   ]
  },
  {
   "cell_type": "code",
   "execution_count": 37,
   "id": "5ffc18e1",
   "metadata": {},
   "outputs": [],
   "source": [
    "#As eggs start with a string and not integer. thus, it is a valid variable name."
   ]
  },
  {
   "cell_type": "markdown",
   "id": "82ebd059",
   "metadata": {},
   "source": [
    "#### What three functions can be used to get the integer, floating-point number, or string version of a value?"
   ]
  },
  {
   "cell_type": "code",
   "execution_count": 45,
   "id": "e3cae045",
   "metadata": {},
   "outputs": [
    {
     "name": "stdout",
     "output_type": "stream",
     "text": [
      "<class 'int'> it is currently integer\n",
      "<class 'float'> it is currently float\n",
      "<class 'str'> it is now a string\n"
     ]
    }
   ],
   "source": [
    "# the three functions that can be used to get the integer, floating point number, or a string version of a value are.\n",
    "A=int(41)\n",
    "print(type(A), 'it is currently integer')\n",
    "\n",
    "B=float(42)\n",
    "print(type(B), 'it is currently float')\n",
    "\n",
    "C=str(40)\n",
    "print(type(C), 'it is now a string')"
   ]
  },
  {
   "cell_type": "markdown",
   "id": "9cc4d580",
   "metadata": {},
   "source": [
    "#### Why does this expression cause an error? How can you fix it?\n",
    "'I have eaten ' + 99 + ' burritos.'"
   ]
  },
  {
   "cell_type": "code",
   "execution_count": 46,
   "id": "44a6faff",
   "metadata": {},
   "outputs": [
    {
     "ename": "TypeError",
     "evalue": "can only concatenate str (not \"int\") to str",
     "output_type": "error",
     "traceback": [
      "\u001b[1;31m---------------------------------------------------------------------------\u001b[0m",
      "\u001b[1;31mTypeError\u001b[0m                                 Traceback (most recent call last)",
      "Cell \u001b[1;32mIn[46], line 1\u001b[0m\n\u001b[1;32m----> 1\u001b[0m \u001b[38;5;124;43m'\u001b[39;49m\u001b[38;5;124;43mI have eaten \u001b[39;49m\u001b[38;5;124;43m'\u001b[39;49m\u001b[43m \u001b[49m\u001b[38;5;241;43m+\u001b[39;49m\u001b[43m \u001b[49m\u001b[38;5;241;43m99\u001b[39;49m \u001b[38;5;241m+\u001b[39m \u001b[38;5;124m'\u001b[39m\u001b[38;5;124m burritos.\u001b[39m\u001b[38;5;124m'\u001b[39m\n",
      "\u001b[1;31mTypeError\u001b[0m: can only concatenate str (not \"int\") to str"
     ]
    }
   ],
   "source": [
    "'I have eaten ' + 99 + ' burritos.'"
   ]
  },
  {
   "cell_type": "code",
   "execution_count": 47,
   "id": "72af6693",
   "metadata": {},
   "outputs": [
    {
     "data": {
      "text/plain": [
       "'I have eaten 99 burritos.'"
      ]
     },
     "execution_count": 47,
     "metadata": {},
     "output_type": "execute_result"
    }
   ],
   "source": [
    "\"it is caused as the string and integer cannot be concatenate, in response we have to change data type of 99 to string.\"\n",
    "'I have eaten ' + str(99) + ' burritos.'"
   ]
  },
  {
   "cell_type": "code",
   "execution_count": null,
   "id": "996bbee5",
   "metadata": {},
   "outputs": [],
   "source": []
  }
 ],
 "metadata": {
  "kernelspec": {
   "display_name": "Python 3 (ipykernel)",
   "language": "python",
   "name": "python3"
  },
  "language_info": {
   "codemirror_mode": {
    "name": "ipython",
    "version": 3
   },
   "file_extension": ".py",
   "mimetype": "text/x-python",
   "name": "python",
   "nbconvert_exporter": "python",
   "pygments_lexer": "ipython3",
   "version": "3.10.9"
  }
 },
 "nbformat": 4,
 "nbformat_minor": 5
}
