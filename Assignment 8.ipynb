{
 "cells": [
  {
   "cell_type": "markdown",
   "id": "b93e3745",
   "metadata": {},
   "source": [
    "#### In Python, what is the difference between a built-in function and a user-defined function? Provide an example of each."
   ]
  },
  {
   "cell_type": "code",
   "execution_count": 1,
   "id": "6e877230",
   "metadata": {},
   "outputs": [
    {
     "name": "stdout",
     "output_type": "stream",
     "text": [
      "Hello\n"
     ]
    }
   ],
   "source": [
    "#function is a named block of code that perform a specific task \n",
    "#for example: print() function is a builtin function.\n",
    "    \n",
    "print('Hello')"
   ]
  },
  {
   "cell_type": "code",
   "execution_count": 2,
   "id": "80620ea6",
   "metadata": {},
   "outputs": [
    {
     "data": {
      "text/plain": [
       "5"
      ]
     },
     "execution_count": 2,
     "metadata": {},
     "output_type": "execute_result"
    }
   ],
   "source": [
    "#user defined function: functions specified by user to perform a specific task \n",
    "def add_num(n1,n2):\n",
    "    sum=n1+n2\n",
    "    return sum\n",
    "\n",
    "add_num(2,3)\n",
    "    "
   ]
  },
  {
   "cell_type": "markdown",
   "id": "0f6e98e5",
   "metadata": {},
   "source": [
    "#### How can you pass arguments to a function in Python? Explain the difference between positional arguments and keyword arguments."
   ]
  },
  {
   "cell_type": "code",
   "execution_count": 3,
   "id": "3635b741",
   "metadata": {},
   "outputs": [
    {
     "name": "stdout",
     "output_type": "stream",
     "text": [
      "hi, I am sourabh\n",
      "my age is 25 and weight is 60\n",
      "hi, I am sourabh\n",
      "my age is 25 and weight is 60\n"
     ]
    }
   ],
   "source": [
    "#Arguments are passed to the python within paranthesis () after the function name\n",
    "#Keyword Arguement\n",
    "#keyword arguments are passed the argument (value) with their parameter name specificied with = sign.\n",
    "#As it is not position dependent thus, output doesnot change with argument position change.\n",
    "\n",
    "def intro(name, age, weight):\n",
    "    print('hi, I am', name)\n",
    "    print('my age is',age,'and weight is', weight)\n",
    "    \n",
    "intro(name='sourabh', age=25, weight=60)\n",
    "intro(age=25,weight=60,name='sourabh')"
   ]
  },
  {
   "cell_type": "code",
   "execution_count": 4,
   "id": "8114c387",
   "metadata": {},
   "outputs": [
    {
     "name": "stdout",
     "output_type": "stream",
     "text": [
      "hi, I am Ramesh\n",
      "my age is 20 and weight is 50\n",
      "hi, I am 20\n",
      "my age is 50 and weight is Ramesh\n"
     ]
    }
   ],
   "source": [
    "#Positional Argument\n",
    "#Positional argument is used whenever we pass the arguments in order wehave defined in function without= sign.\n",
    "#As it is a positional argument any change in position would give unexpected output\n",
    "\n",
    "def intro(name, age, weight):\n",
    "    print('hi, I am', name)\n",
    "    print('my age is',age,'and weight is', weight)\n",
    "    \n",
    "intro('Ramesh',20,50)\n",
    "\n",
    "intro(20,50,'Ramesh')"
   ]
  },
  {
   "cell_type": "markdown",
   "id": "7b3a1dc7",
   "metadata": {},
   "source": [
    "#### What is the purpose of the return statement in a function? Can a function have multiple return statements? Explain with an example."
   ]
  },
  {
   "cell_type": "code",
   "execution_count": 5,
   "id": "055b7dc8",
   "metadata": {},
   "outputs": [
    {
     "data": {
      "text/plain": [
       "5"
      ]
     },
     "execution_count": 5,
     "metadata": {},
     "output_type": "execute_result"
    }
   ],
   "source": [
    "#return keyword is used to end the function while returning a value, no statement execute after return\n",
    "def add(a,b):\n",
    "    sum=a+b\n",
    "    return sum\n",
    "\n",
    "add(2,3)"
   ]
  },
  {
   "cell_type": "markdown",
   "id": "2b495a86",
   "metadata": {},
   "source": [
    "#### What are lambda functions in Python? How are they different from regular functions? Provide an example where a lambda function can be useful."
   ]
  },
  {
   "cell_type": "code",
   "execution_count": 6,
   "id": "245fe11f",
   "metadata": {},
   "outputs": [
    {
     "name": "stdout",
     "output_type": "stream",
     "text": [
      "enter any number4\n",
      "16\n"
     ]
    }
   ],
   "source": [
    "#Lambda is a small anonymous function declared at any position inside a code.\n",
    "Square=lambda:int(input('enter any number'))**2\n",
    "print(Square())"
   ]
  },
  {
   "cell_type": "markdown",
   "id": "061f0ef3",
   "metadata": {},
   "source": [
    "#### How does the concept of \"scope\" apply to functions in Python? Explain the difference between local scope and global scope."
   ]
  },
  {
   "cell_type": "code",
   "execution_count": 7,
   "id": "b78ce87f",
   "metadata": {},
   "outputs": [],
   "source": [
    "#A variable is declared inside a function region is termed as scope.\n",
    "\n",
    "#Local scope: a variable declared inside a function can only access inside a function is a local scope in python\n",
    "\n",
    "#Global scope: a variable declare outside or in main body of a function is a global variable in python."
   ]
  },
  {
   "cell_type": "markdown",
   "id": "19a5eff5",
   "metadata": {},
   "source": [
    "#### How can you use the \"return\" statement in a Python function to return multiple values?"
   ]
  },
  {
   "cell_type": "code",
   "execution_count": 8,
   "id": "a7aa784d",
   "metadata": {},
   "outputs": [
    {
     "name": "stdout",
     "output_type": "stream",
     "text": [
      "['Ram', 20]\n"
     ]
    }
   ],
   "source": [
    "def rank():\n",
    "    student='Ram'\n",
    "    score=20\n",
    "    return[student,score]\n",
    "\n",
    "print(rank())"
   ]
  },
  {
   "cell_type": "markdown",
   "id": "961678f1",
   "metadata": {},
   "source": [
    "#### What is the difference between the \"pass by value\" and \"pass by reference\" concepts when it comes to function arguments in Python?"
   ]
  },
  {
   "cell_type": "markdown",
   "id": "379454bd",
   "metadata": {},
   "source": [
    "#### when we define a function arguement a variable is declared that takes an arguement by pass fuction and the arguement is provided by reference to that variable."
   ]
  },
  {
   "cell_type": "code",
   "execution_count": 9,
   "id": "40acc009",
   "metadata": {},
   "outputs": [
    {
     "name": "stdout",
     "output_type": "stream",
     "text": [
      "Before function call  100\n",
      "Inside function call  250\n",
      "After function call  100\n"
     ]
    }
   ],
   "source": [
    "def function(int):\n",
    "  int+=150\n",
    "  print(\"Inside function call \",int)\n",
    "\n",
    "int=100\n",
    "print(\"Before function call \",int)\n",
    "function(int)\n",
    "print(\"After function call \",int)\n",
    "#Hence when the variable int value is changed to 150 is only added inside function as it is value method."
   ]
  },
  {
   "cell_type": "code",
   "execution_count": 10,
   "id": "89be0671",
   "metadata": {},
   "outputs": [
    {
     "name": "stdout",
     "output_type": "stream",
     "text": [
      "Before function call ['A']\n",
      "Inside function call ['A', 'B']\n",
      "After function call ['A', 'B']\n"
     ]
    }
   ],
   "source": [
    "def function(str):\n",
    "    str.append('B'),print(\"Inside function call\",str)\n",
    "    \n",
    "str=['A']\n",
    "print(\"Before function call\",str)\n",
    "function(str)\n",
    "print(\"After function call\",str)\n",
    "#when the value is passed by referring the str the value gets modified and prints in outside function."
   ]
  },
  {
   "cell_type": "code",
   "execution_count": 11,
   "id": "a46bda32",
   "metadata": {},
   "outputs": [],
   "source": [
    "import math"
   ]
  },
  {
   "cell_type": "code",
   "execution_count": 30,
   "id": "c55953db",
   "metadata": {},
   "outputs": [
    {
     "name": "stdout",
     "output_type": "stream",
     "text": [
      "Enter any number:4\n",
      "1.3862943611198906\n"
     ]
    }
   ],
   "source": [
    "Num = float(input('Enter any number:'))\n",
    "\n",
    "def log(Num):\n",
    "    print(math.log(Num))\n",
    "\n",
    "log(Num)"
   ]
  },
  {
   "cell_type": "code",
   "execution_count": 31,
   "id": "e5af16e1",
   "metadata": {},
   "outputs": [
    {
     "name": "stdout",
     "output_type": "stream",
     "text": [
      "Enter any number:4\n",
      "54.598150033144236\n"
     ]
    }
   ],
   "source": [
    "Num = float(input('Enter any number:'))\n",
    "\n",
    "def Exp(Num):\n",
    "    print(math.exp(Num))\n",
    "\n",
    "Exp(Num)"
   ]
  },
  {
   "cell_type": "code",
   "execution_count": 33,
   "id": "b338ee44",
   "metadata": {},
   "outputs": [
    {
     "name": "stdout",
     "output_type": "stream",
     "text": [
      "Enter any number:4\n",
      "16.0\n"
     ]
    }
   ],
   "source": [
    "Num = float(input('Enter any number:'))\n",
    "\n",
    "def Power(Num):\n",
    "    print(math.pow(2,Num))\n",
    "\n",
    "Power(Num)"
   ]
  },
  {
   "cell_type": "code",
   "execution_count": 34,
   "id": "136d9e73",
   "metadata": {},
   "outputs": [
    {
     "name": "stdout",
     "output_type": "stream",
     "text": [
      "Enter any number:4\n",
      "2.0\n"
     ]
    }
   ],
   "source": [
    "Num = float(input('Enter any number:'))\n",
    "\n",
    "def Sqrt(Num):\n",
    "    print(math.sqrt(Num))\n",
    "\n",
    "Sqrt(Num)"
   ]
  },
  {
   "cell_type": "markdown",
   "id": "ebb0c7bd",
   "metadata": {},
   "source": [
    "#### Create a function that takes a full name as an argument and returns first name and last name."
   ]
  },
  {
   "cell_type": "code",
   "execution_count": 39,
   "id": "3f6f5b62",
   "metadata": {},
   "outputs": [
    {
     "name": "stdout",
     "output_type": "stream",
     "text": [
      "Please Enter your full name:Sourabh Londe\n",
      "First name is Sourabh , Last name is Londe\n"
     ]
    }
   ],
   "source": [
    "Full_name = input('Please Enter your full name:')\n",
    "\n",
    "def Name(Full_name):\n",
    "    list_1=Full_name.split(\" \")\n",
    "    print('First name is', list_1[0],', Last name is', list_1[1])\n",
    "Name(Full_name)"
   ]
  },
  {
   "cell_type": "code",
   "execution_count": null,
   "id": "cb97e9e5",
   "metadata": {},
   "outputs": [],
   "source": []
  },
  {
   "cell_type": "code",
   "execution_count": null,
   "id": "3c13e7d5",
   "metadata": {},
   "outputs": [],
   "source": []
  }
 ],
 "metadata": {
  "kernelspec": {
   "display_name": "Python 3 (ipykernel)",
   "language": "python",
   "name": "python3"
  },
  "language_info": {
   "codemirror_mode": {
    "name": "ipython",
    "version": 3
   },
   "file_extension": ".py",
   "mimetype": "text/x-python",
   "name": "python",
   "nbconvert_exporter": "python",
   "pygments_lexer": "ipython3",
   "version": "3.10.9"
  }
 },
 "nbformat": 4,
 "nbformat_minor": 5
}
