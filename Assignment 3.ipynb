{
 "cells": [
  {
   "cell_type": "markdown",
   "id": "0661c866",
   "metadata": {},
   "source": [
    " ### Q1) Why are functions advantageous to have in your programs?"
   ]
  },
  {
   "cell_type": "markdown",
   "id": "fd605dcb",
   "metadata": {},
   "source": [
    "###### Ans) Function are predefined snippet of code that reduces time of writting duplicate code and makes it easier to read and update and called of whenever required during program."
   ]
  },
  {
   "cell_type": "markdown",
   "id": "714a24be",
   "metadata": {},
   "source": [
    "### Q2) When does the code in a function run: when it's specified or when it's called?"
   ]
  },
  {
   "cell_type": "markdown",
   "id": "2e507b47",
   "metadata": {},
   "source": [
    "###### Ans) The code in a function executes only when it is called."
   ]
  },
  {
   "cell_type": "markdown",
   "id": "131609a5",
   "metadata": {},
   "source": [
    "### Q3) What statement creates a function?"
   ]
  },
  {
   "cell_type": "markdown",
   "id": "53a3dee0",
   "metadata": {},
   "source": [
    "##### Ans) The def statement is used to create a function."
   ]
  },
  {
   "cell_type": "markdown",
   "id": "67ab24c7",
   "metadata": {},
   "source": [
    "### Q4) What is the difference between a function and a function call?"
   ]
  },
  {
   "cell_type": "markdown",
   "id": "c1ac09d6",
   "metadata": {},
   "source": [
    "#### Ans) A function is a defined code. Afuction call is what makes a program executable to evaluate function return value."
   ]
  },
  {
   "cell_type": "markdown",
   "id": "2e25d3a2",
   "metadata": {},
   "source": [
    "### Q5) How many global scopes are there in a Python program? How many local scopes?"
   ]
  },
  {
   "cell_type": "markdown",
   "id": "3838c37b",
   "metadata": {},
   "source": [
    "#### Ans) There is one global scope and a local scope this is created whenever a function is called."
   ]
  },
  {
   "cell_type": "markdown",
   "id": "2d55bada",
   "metadata": {},
   "source": [
    "### Q6) What happens to variables in a local scope when the function call returns?"
   ]
  },
  {
   "cell_type": "markdown",
   "id": "9437cf48",
   "metadata": {},
   "source": [
    "#### Ans) The Scope of local variable is limited to a that particular block of code only. it deletes the variables present in it."
   ]
  },
  {
   "cell_type": "markdown",
   "id": "d88c19a9",
   "metadata": {},
   "source": [
    "### Q7) What is the concept of a return value? Is it possible to have a return value in an expression?"
   ]
  },
  {
   "cell_type": "markdown",
   "id": "4766f537",
   "metadata": {},
   "source": [
    "#### Ans) The return value is the value of function that evaluates like any value return can be used as a part of a function."
   ]
  },
  {
   "cell_type": "markdown",
   "id": "1c9ed3fa",
   "metadata": {},
   "source": [
    "### Q8) If a function does not have a return statement, what is the return value of a call to that function?"
   ]
  },
  {
   "cell_type": "markdown",
   "id": "f336acf0",
   "metadata": {},
   "source": [
    "#### Ans) if a function doesnot have a return value it return value as none."
   ]
  },
  {
   "cell_type": "markdown",
   "id": "e7962309",
   "metadata": {},
   "source": [
    "### Q9) How do you make a function variable refer to the global variable?"
   ]
  },
  {
   "cell_type": "markdown",
   "id": "21ff4aaf",
   "metadata": {},
   "source": [
    "#### Ans) A global statement will force a varianble refer to a global variable."
   ]
  },
  {
   "cell_type": "markdown",
   "id": "725f69c8",
   "metadata": {},
   "source": [
    "### Q10) What is the data type of None?"
   ]
  },
  {
   "cell_type": "markdown",
   "id": "2df89aec",
   "metadata": {},
   "source": [
    "#### Ans) The data type of None is None Data Type"
   ]
  },
  {
   "cell_type": "markdown",
   "id": "55e8f679",
   "metadata": {},
   "source": [
    "### Q11) What does the sentence import areallyourpetsnamederic do?"
   ]
  },
  {
   "cell_type": "markdown",
   "id": "1504aac4",
   "metadata": {},
   "source": [
    "#### Ans) The import statement will import a module named 'areallyourpetsnamederic'"
   ]
  },
  {
   "cell_type": "markdown",
   "id": "9f1b76c2",
   "metadata": {},
   "source": [
    "### Q12)  If you had a bacon() feature in a spam module, what would you call it after importing spam?"
   ]
  },
  {
   "cell_type": "markdown",
   "id": "2166ca00",
   "metadata": {},
   "source": [
    "#### Ans) The feature can be called by spam.bacon()"
   ]
  },
  {
   "cell_type": "markdown",
   "id": "bc7a6291",
   "metadata": {},
   "source": [
    "### Q13) What can you do to save a programme from crashing if it encounters an error?"
   ]
  },
  {
   "cell_type": "markdown",
   "id": "31aab2d5",
   "metadata": {},
   "source": [
    "#### Ans) if the error occurs then place the code in the try statement"
   ]
  },
  {
   "cell_type": "markdown",
   "id": "1e0f23fd",
   "metadata": {},
   "source": [
    "### Q14) What is the purpose of the try clause? What is the purpose of the except clause?"
   ]
  },
  {
   "cell_type": "markdown",
   "id": "f2b5dec7",
   "metadata": {},
   "source": [
    "#### Ans) The code that can potentially cause an error will go to try clause and if error occurs it will go in the except clause."
   ]
  },
  {
   "cell_type": "code",
   "execution_count": null,
   "id": "284c4447",
   "metadata": {},
   "outputs": [],
   "source": []
  }
 ],
 "metadata": {
  "kernelspec": {
   "display_name": "Python 3 (ipykernel)",
   "language": "python",
   "name": "python3"
  },
  "language_info": {
   "codemirror_mode": {
    "name": "ipython",
    "version": 3
   },
   "file_extension": ".py",
   "mimetype": "text/x-python",
   "name": "python",
   "nbconvert_exporter": "python",
   "pygments_lexer": "ipython3",
   "version": "3.10.9"
  }
 },
 "nbformat": 4,
 "nbformat_minor": 5
}
